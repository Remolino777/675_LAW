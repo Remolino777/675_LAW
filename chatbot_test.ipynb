{
 "cells": [
  {
   "cell_type": "code",
   "execution_count": 1,
   "metadata": {},
   "outputs": [],
   "source": [
    "from src.neo4j_functions import get_related_nodes, create_neo4j_driver, get_generative_model, vector_store, llm_interaction\n"
   ]
  },
  {
   "cell_type": "code",
   "execution_count": 2,
   "metadata": {},
   "outputs": [],
   "source": [
    "import os"
   ]
  },
  {
   "cell_type": "code",
   "execution_count": 3,
   "metadata": {},
   "outputs": [],
   "source": [
    "URI = 'neo4j+s://295c5d0b.databases.neo4j.io'\n",
    "NEO4J_USER = os.getenv('N_USER')\n",
    "NEO4J_PASSWORD = os.getenv('N_PASSWORD')\n",
    "G_KEY = os.getenv('GEMINI_API')"
   ]
  },
  {
   "cell_type": "code",
   "execution_count": 4,
   "metadata": {},
   "outputs": [
    {
     "name": "stderr",
     "output_type": "stream",
     "text": [
      "d:\\0_Respaldo\\000_KaggleX\\Projects\\Rag-Ley675\\675_LAW\\.venv\\Lib\\site-packages\\transformers\\tokenization_utils_base.py:1617: FutureWarning: `clean_up_tokenization_spaces` was not set. It will be set to `True` by default. This behavior will be deprecated in transformers v4.45, and will be then set to `False` by default. For more details check this issue: https://github.com/huggingface/transformers/issues/31884\n",
      "  warnings.warn(\n"
     ]
    }
   ],
   "source": [
    "vs = vector_store(uri=URI, username=NEO4J_USER,password=NEO4J_PASSWORD)"
   ]
  },
  {
   "cell_type": "code",
   "execution_count": 5,
   "metadata": {},
   "outputs": [],
   "source": [
    "driver = create_neo4j_driver(uri=URI, user=NEO4J_USER,password=NEO4J_PASSWORD)"
   ]
  },
  {
   "cell_type": "code",
   "execution_count": 6,
   "metadata": {},
   "outputs": [],
   "source": [
    "llm = get_generative_model(api_key=G_KEY, model_name='gemini-1.5-flash-latest', temperature=0.3, top_p=0.95, top_k=5, max_output_tokens=8192, response_mime_type=\"text/plain\")"
   ]
  },
  {
   "cell_type": "code",
   "execution_count": null,
   "metadata": {},
   "outputs": [],
   "source": [
    "#Fallo en la respuesta\n",
    "#query = 'Que usos le puedo dar a mi apartamento en la copropiedad segun la ley'"
   ]
  },
  {
   "cell_type": "code",
   "execution_count": null,
   "metadata": {},
   "outputs": [],
   "source": [
    "query = 'Como se aplica el concepto de \"modulos de contribucion\" en las expensas comunes'"
   ]
  },
  {
   "cell_type": "code",
   "execution_count": 7,
   "metadata": {},
   "outputs": [],
   "source": [
    "#100 match query\n",
    "query = 'Quiero ir da vacaciones a Roma?'"
   ]
  },
  {
   "cell_type": "code",
   "execution_count": 8,
   "metadata": {},
   "outputs": [
    {
     "name": "stdout",
     "output_type": "stream",
     "text": [
      "Advertencia: Baja similaridad (0.6227023601531982)\n"
     ]
    }
   ],
   "source": [
    "ans = llm_interaction(query, vector_store=vs, driver=driver, llm=llm)\n"
   ]
  },
  {
   "cell_type": "code",
   "execution_count": 9,
   "metadata": {},
   "outputs": [
    {
     "name": "stdout",
     "output_type": "stream",
     "text": [
      "\n",
      "            Recuerda que tu pregunta tiene que estar relacionada con la ley 675 de Colombia. \n",
      "            Ademas procura hacer una pregunta a la vez para darte una respuesta mas clara\n",
      "            \n"
     ]
    }
   ],
   "source": [
    "print(ans)"
   ]
  },
  {
   "cell_type": "code",
   "execution_count": null,
   "metadata": {},
   "outputs": [],
   "source": []
  }
 ],
 "metadata": {
  "kernelspec": {
   "display_name": ".venv",
   "language": "python",
   "name": "python3"
  },
  "language_info": {
   "codemirror_mode": {
    "name": "ipython",
    "version": 3
   },
   "file_extension": ".py",
   "mimetype": "text/x-python",
   "name": "python",
   "nbconvert_exporter": "python",
   "pygments_lexer": "ipython3",
   "version": "3.11.5"
  }
 },
 "nbformat": 4,
 "nbformat_minor": 2
}
