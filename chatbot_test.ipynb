{
 "cells": [
  {
   "cell_type": "code",
   "execution_count": 2,
   "metadata": {},
   "outputs": [],
   "source": [
    "from src.neo4j_functions import get_related_nodes, create_neo4j_driver, get_generative_model, vector_store, llm_interaction\n"
   ]
  },
  {
   "cell_type": "code",
   "execution_count": 3,
   "metadata": {},
   "outputs": [],
   "source": [
    "import os"
   ]
  },
  {
   "cell_type": "code",
   "execution_count": 4,
   "metadata": {},
   "outputs": [],
   "source": [
    "URI = 'neo4j+s://295c5d0b.databases.neo4j.io'\n",
    "NEO4J_USER = os.getenv('N_USER')\n",
    "NEO4J_PASSWORD = os.getenv('N_PASSWORD')\n",
    "G_KEY = os.getenv('GEMINI_API')"
   ]
  },
  {
   "cell_type": "code",
   "execution_count": 5,
   "metadata": {},
   "outputs": [
    {
     "name": "stderr",
     "output_type": "stream",
     "text": [
      "d:\\0_Respaldo\\000_KaggleX\\Projects\\Rag-Ley675\\675_LAW\\.venv\\Lib\\site-packages\\transformers\\tokenization_utils_base.py:1617: FutureWarning: `clean_up_tokenization_spaces` was not set. It will be set to `True` by default. This behavior will be deprecated in transformers v4.45, and will be then set to `False` by default. For more details check this issue: https://github.com/huggingface/transformers/issues/31884\n",
      "  warnings.warn(\n"
     ]
    }
   ],
   "source": [
    "vs = vector_store(uri=URI, username=NEO4J_USER,password=NEO4J_PASSWORD)"
   ]
  },
  {
   "cell_type": "code",
   "execution_count": 7,
   "metadata": {},
   "outputs": [],
   "source": [
    "driver = create_neo4j_driver(uri=URI, user=NEO4J_USER,password=NEO4J_PASSWORD)"
   ]
  },
  {
   "cell_type": "code",
   "execution_count": 8,
   "metadata": {},
   "outputs": [],
   "source": [
    "llm = get_generative_model(api_key=G_KEY, model_name='gemini-1.5-flash-latest', temperature=0.3, top_p=0.95, top_k=5, max_output_tokens=8192, response_mime_type=\"text/plain\")"
   ]
  },
  {
   "cell_type": "code",
   "execution_count": 19,
   "metadata": {},
   "outputs": [],
   "source": [
    "#Fallo en la respuesta\n",
    "#query = 'Que usos le puedo dar a mi apartamento en la copropiedad segun la ley'"
   ]
  },
  {
   "cell_type": "code",
   "execution_count": 9,
   "metadata": {},
   "outputs": [],
   "source": [
    "query = 'Como se aplica el concepto de \"modulos de contribucion\" en las expensas comunes'"
   ]
  },
  {
   "cell_type": "code",
   "execution_count": 10,
   "metadata": {},
   "outputs": [
    {
     "name": "stdout",
     "output_type": "stream",
     "text": [
      "319\n"
     ]
    }
   ],
   "source": [
    "ans = llm_interaction(query, vector_store=vs, driver=driver, llm=llm)"
   ]
  },
  {
   "cell_type": "code",
   "execution_count": 11,
   "metadata": {},
   "outputs": [
    {
     "name": "stdout",
     "output_type": "stream",
     "text": [
      "## Módulos de Contribución en las Expensas Comunes:\n",
      "\n",
      "Los \"módulos de contribución\" son un mecanismo específico para calcular las expensas comunes en edificios o conjuntos de uso comercial o mixto. Se utilizan para **repartir las cargas de manera más equitativa**, teniendo en cuenta el **uso y goce** que cada propietario hace de los bienes y servicios comunes. \n",
      "\n",
      "**¿Cómo funcionan los módulos de contribución?**\n",
      "\n",
      "1. **Identificación de bienes y servicios comunes:** Se identifican los bienes y servicios comunes cuyo uso y goce corresponde a una parte o sector determinado del edificio o conjunto. Por ejemplo, un área de estacionamiento, un salón de eventos, o un sistema de aire acondicionado exclusivo para un sector comercial.\n",
      "2. **Asignación de módulos:** Se asignan módulos de contribución a cada propietario, en función del uso y goce que tiene de los bienes y servicios comunes específicos. Un propietario que utiliza más un servicio común, tendrá un módulo de contribución más alto para ese servicio.\n",
      "3. **Cálculo de las expensas:** Las expensas comunes se calculan teniendo en cuenta los módulos de contribución asignados a cada propietario. Esto significa que cada propietario pagará una parte de las expensas proporcional al uso que hace de los bienes y servicios comunes.\n",
      "\n",
      "**Ejemplo:**\n",
      "\n",
      "Imagine un edificio de uso mixto con un área comercial en la planta baja y apartamentos residenciales en los pisos superiores. El edificio tiene un sistema de aire acondicionado centralizado, pero el área comercial tiene un sistema de aire acondicionado independiente.\n",
      "\n",
      "* **Módulos de contribución:** Los propietarios de los locales comerciales tendrán un módulo de contribución más alto para el sistema de aire acondicionado independiente, ya que son los que más lo utilizan. Los propietarios de los apartamentos tendrán un módulo de contribución más bajo para este sistema, ya que no lo utilizan directamente.\n",
      "* **Cálculo de las expensas:** Las expensas comunes del sistema de aire acondicionado independiente se dividirán entre los propietarios de los locales comerciales, de acuerdo con sus módulos de contribución. Los propietarios de los apartamentos no tendrán que pagar por este servicio, ya que no lo utilizan.\n",
      "\n",
      "**Beneficios de los módulos de contribución:**\n",
      "\n",
      "* **Equidad:** Permite que las expensas comunes se repartan de manera más justa, teniendo en cuenta el uso real que cada propietario hace de los bienes y servicios comunes.\n",
      "* **Transparencia:** Permite a los propietarios comprender cómo se calculan las expensas comunes y cómo se les afecta a ellos.\n",
      "* **Eficiencia:** Permite que los servicios comunes se gestionen de manera más eficiente, ya que se pueden asignar los recursos de manera más precisa.\n",
      "\n",
      "**Importante:** La aplicación de los módulos de contribución debe estar claramente definida en el Reglamento de Propiedad Horizontal del edificio o conjunto.\n",
      "\n",
      "**¿Tienes más preguntas sobre la Ley 675 de Colombia?** No dudes en preguntar. \n",
      "\n"
     ]
    }
   ],
   "source": [
    "print(ans)"
   ]
  },
  {
   "cell_type": "code",
   "execution_count": null,
   "metadata": {},
   "outputs": [],
   "source": []
  }
 ],
 "metadata": {
  "kernelspec": {
   "display_name": ".venv",
   "language": "python",
   "name": "python3"
  },
  "language_info": {
   "codemirror_mode": {
    "name": "ipython",
    "version": 3
   },
   "file_extension": ".py",
   "mimetype": "text/x-python",
   "name": "python",
   "nbconvert_exporter": "python",
   "pygments_lexer": "ipython3",
   "version": "3.11.5"
  }
 },
 "nbformat": 4,
 "nbformat_minor": 2
}
