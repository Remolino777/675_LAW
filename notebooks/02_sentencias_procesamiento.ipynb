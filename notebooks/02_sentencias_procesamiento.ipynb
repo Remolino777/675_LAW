{
 "cells": [
  {
   "cell_type": "code",
   "execution_count": 15,
   "metadata": {},
   "outputs": [],
   "source": [
    "import re\n",
    "from striprtf.striprtf import rtf_to_text\n",
    "import csv"
   ]
  },
  {
   "cell_type": "markdown",
   "metadata": {},
   "source": [
    "## Load files"
   ]
  },
  {
   "cell_type": "code",
   "execution_count": 16,
   "metadata": {},
   "outputs": [],
   "source": [
    "def leer_archivo_rtf(ruta_archivo):\n",
    "    try:\n",
    "        with open(ruta_archivo, 'r', encoding='utf-8') as archivo:\n",
    "            contenido_rtf = archivo.read()\n",
    "            contenido_texto = rtf_to_text(contenido_rtf)\n",
    "            return contenido_texto\n",
    "    except Exception as e:\n",
    "        print(f\"Error al leer el archivo .rtf: {e}\")\n",
    "        return None"
   ]
  },
  {
   "cell_type": "markdown",
   "metadata": {},
   "source": [
    "### Parce sentences"
   ]
  },
  {
   "cell_type": "markdown",
   "metadata": {},
   "source": [
    "#### Sentence C-318"
   ]
  },
  {
   "cell_type": "code",
   "execution_count": 17,
   "metadata": {},
   "outputs": [],
   "source": [
    "path = r'D:\\0_Respaldo\\000_KaggleX\\Projects\\Rag-Ley675\\675_LAW\\data\\raw\\Sentencias\\C-318-02.rtf'\n",
    "c_318 = leer_archivo_rtf(path)"
   ]
  },
  {
   "cell_type": "code",
   "execution_count": 18,
   "metadata": {},
   "outputs": [],
   "source": [
    "#Creo la lista de nodos\n",
    "lista_sentencias = []"
   ]
  },
  {
   "cell_type": "code",
   "execution_count": 19,
   "metadata": {},
   "outputs": [],
   "source": [
    "patron_sentencia_titulo = r\"(Sentencia\\s\\w-\\d{3}/\\d{2})\"\n",
    "patron_articulos_demandados = re.compile(r'II\\.\\s*NORMAS\\s*DEMANDADAS\\.\\s*(.*?)(?=\\nIII\\. LA DEMANDA)', re.DOTALL)\n",
    "patron_demanda = re.compile(r'(II\\.\\s*LA DEMANDA)\\.\\s*(.*?)(?=\\nIV\\. INTERVENCIÓN)', re.DOTALL)\n",
    "patron_decision = re.compile(r'(VII\\.\\s*DECISION)\\.\\s*(.*?)(?=\\nNotifíquese, comuníquese, publíquese,)', re.DOTALL)\n",
    "patron_articulos = re.compile(r'(Artículo\\s)(\\d{1,2})', re.DOTALL)\n"
   ]
  },
  {
   "cell_type": "code",
   "execution_count": 20,
   "metadata": {},
   "outputs": [
    {
     "data": {
      "text/plain": [
       "re.compile(r'II\\.\\s*NORMAS\\s*DEMANDADAS\\.\\s*(.*?)(?=\\nIII\\. LA DEMANDA)',\n",
       "           re.DOTALL|re.UNICODE)"
      ]
     },
     "execution_count": 20,
     "metadata": {},
     "output_type": "execute_result"
    }
   ],
   "source": [
    "patron_articulos_demandados"
   ]
  },
  {
   "cell_type": "code",
   "execution_count": 21,
   "metadata": {},
   "outputs": [],
   "source": [
    "sentencia_n = re.search(patron_sentencia_titulo, c_318)"
   ]
  },
  {
   "cell_type": "code",
   "execution_count": 22,
   "metadata": {},
   "outputs": [
    {
     "data": {
      "text/plain": [
       "'Sentencia C-318/02'"
      ]
     },
     "execution_count": 22,
     "metadata": {},
     "output_type": "execute_result"
    }
   ],
   "source": [
    "sentencia_n.group(1)"
   ]
  },
  {
   "cell_type": "code",
   "execution_count": 23,
   "metadata": {},
   "outputs": [],
   "source": [
    "s_demanda = re.search(patron_demanda, c_318)\n",
    "s_decision = re.search(patron_decision, c_318)\n",
    "a_demandados = re.search(patron_articulos_demandados, c_318)\n",
    "articulos_318 = re.findall(patron_articulos, a_demandados.group(1))"
   ]
  },
  {
   "cell_type": "code",
   "execution_count": 24,
   "metadata": {},
   "outputs": [
    {
     "data": {
      "text/plain": [
       "[('Artículo ', '1'),\n",
       " ('Artículo ', '3'),\n",
       " ('Artículo ', '32'),\n",
       " ('Artículo ', '37'),\n",
       " ('Artículo ', '39'),\n",
       " ('Artículo ', '42'),\n",
       " ('Artículo ', '43'),\n",
       " ('Artículo ', '44'),\n",
       " ('Artículo ', '45'),\n",
       " ('Artículo ', '47'),\n",
       " ('Artículo ', '49'),\n",
       " ('Artículo ', '50'),\n",
       " ('Artículo ', '51'),\n",
       " ('Artículo ', '53'),\n",
       " ('Artículo ', '58'),\n",
       " ('Artículo ', '59'),\n",
       " ('Artículo ', '62')]"
      ]
     },
     "execution_count": 24,
     "metadata": {},
     "output_type": "execute_result"
    }
   ],
   "source": [
    "articulos_318"
   ]
  },
  {
   "cell_type": "code",
   "execution_count": 25,
   "metadata": {},
   "outputs": [],
   "source": [
    "# Nodo\n",
    "nodo_dict = {}\n",
    "nodo_dict = {\n",
    "    \"sentencia_id\":318,\n",
    "    \"sentencia_name\":sentencia_n.group(1),\n",
    "    \"demanda\": s_demanda.group(2),\n",
    "    \"decision\":s_decision.group(2)\n",
    "    }\n"
   ]
  },
  {
   "cell_type": "code",
   "execution_count": 26,
   "metadata": {},
   "outputs": [],
   "source": [
    "lista_sentencias.append(nodo_dict)"
   ]
  },
  {
   "cell_type": "code",
   "execution_count": 27,
   "metadata": {},
   "outputs": [
    {
     "data": {
      "text/plain": [
       "[{'sentencia_id': 318,\n",
       "  'sentencia_name': 'Sentencia C-318/02',\n",
       "  'demanda': 'Considera el actor que las normas demandadas violan el preámbulo de la Constitución y los artículos 1, 2, 5, 13, 14, 23, 29, 40, 58, 95, 103, 112, 158 y 229 de la Carta. El concepto de violación se tratará de resumir así :\\n\\nLa Ley 675 de 2001, desde su inicio, desconoce la realidad del país, en el sentido de que al lado de los derechos de los propietarios de las unidades privadas en los edificios o conjuntos, concurren los derechos de otras personas, que son moradores de tales unidades, en calidad de poseedores, tenedores, arrendatarios, cuyos derechos también deben ser respetados. \\n\\nPor desconocer esta realidad, la Ley está estructurada, desde su objeto mismo, otorgando a los propietarios un poder “de dominación antidemocrático sobre los demás miembros de la comunidad social”. Señala, también, que “De manera absolutamente abusiva y arbitraria, y por ende ilegal, la ley 675 estatuye a favor de los propietarios de unidades privadas todo un amplio catálogo de derechos y tan solo consagra respecto de los tenedores obligaciones y sanciones.”\\n\\nEl artículo 1º acusado, no obstante anunciar que la finalidad del régimen de propiedad horizontal es garantizar la seguridad y la convivencia pacífica en los inmuebles sometidos a ella, y la función social de la sociedad, esta finalidad no se refleja, ya que sólo regula lo que atañe a los propietarios. \\n\\nLa Ley 675 ataca la estructura del ordenamiento jurídico civil, ya que se impone sobre las instituciones legales como la posesión y tenencia reguladas por los artículos 762 a 781 del Código Civil. De esta forma se produce la violación del artículo 158 de la Constitución, por violación a la unidad de materia. \\n\\nSeñala que las partes subrayadas de los artículos acusados impiden la regulación de la convivencia pacifica en los edificios y conjuntos a quienes no sean propietarios, lo que crea una verdadera injusticia y desigualdad. \\n\\nEsto se refleja, en especial, en la forma como está concebida la propiedad horizontal. En efecto, el artículo 32 señala que la propiedad horizontal es una persona jurídica conformada únicamente por los dueños de dominio particular. Es decir, deja expresamente por fuera a quienes no tienen el carácter de propietarios. \\n\\nSin embargo, el artículo 37, inciso 3, establece que las decisiones de la asamblea general son de obligatorio cumplimiento no sólo para los propietarios del edificio, sino para todos sus usuarios y ocupantes. \\n\\nPara el actor, extender las decisiones de la asamblea general a quienes no son propietarios, viola el artículo 2 de la Constitución, en cuanto expresa que en las decisiones que afectan a todos, deben participar todos. Además, se  desconoce el artículo 14 de la Carta, pues se niega el derecho a tener  personalidad jurídica a quienes no son propietarios. Los tenedores y poseedores, tampoco tienen derecho a elegir y ser elegido en los órganos de representación de la copropiedad. Ni tienen acción ante la Alcaldía. \\n\\nLa violación del debido proceso y del acceso a la administración de justicia, la explica el demandante así :\\n\\n“El artículo 37 de la Ley 675, pregona que las decisiones de la asamblea general son obligatorias para los propietarios, usuarios y ocupantes del edificio o conjunto. El artículo 59 ibídem, permite sancionar las conductas de propietarios, tenedores o terceros. \\n\\n“Sin embargo, el artículo 49 de la ley en comento, haciendo coro con el artículo 62 de la misma, solamente permiten que el administrador, el revisor fiscal y los propietarios de bienes privados, tengan derecho de acción para impugnar las decisiones corrientes de la asamblea general; y solamente se permite que el propietario sancionado impugne la decisión sancionatoria. \\n\\n“Tamaño adefesio significa, que pese a que el reglamento y las decisiones de la asamblea cobijan por igual a propietarios, ocupantes y usuarios, solamente los primeros pueden ejercitar el derecho de acción para demandar las decisiones que les afecten. Ello, desconoce el principio de igualdad, niega el derecho de acceso a la administración de justicia de miembros del colectivo distintos a los propietarios, y consagra un orden injusto, contrario al orden justo que implanta la Carta.\\n\\n“El derecho fundamental al debido proceso, que incluye el de contradicción y defensa experimenta un desconocimiento absoluto a través de las normas acusadas de la ley cuando se contempla que solamente el propietario de bien privado que ha sido sancionado puede impugnar las sanciones por incumplimiento de obligaciones no pecuniarias.”\\n',\n",
       "  'decision': 'En mérito de lo expuesto, la Corte Constitucional de la República de Colombia, administrando justicia en nombre del pueblo y por mandato de la Constitución,\\n\\nRESUELVE :\\n\\nPrimero : Declarar exequibles por los cargos formulados, lo acusado de los artículos 1, 3, parcial, 32, parcial, 37, parcial, 39, parcial, 42, parcial, 43, parcial, 44, parcial, 45, parcial, 47, parcial, 49, parcial, 50, parcial, 51, parcial, 53, parcial, 58, parcial, 59, parcial, y 62, parcial, de la Ley 675 de 2001, “Por medio de la cual se expide el régimen de propiedad horizontal.”, bajo el entendido de que los moradores no propietarios de inmuebles sometidos al régimen de propiedad horizontal podrán ejercer ante las autoridades internas del mismo el derecho de petición, así como el de ser oídos en las decisiones que puedan afectarlos, conforme a lo expuesto en la parte motiva de esta sentencia.\\n\\nSegundo : Igualmente, se declara la exequibilidad de las normas acusadas bajo el entendido de que, cuando se trate de la imposición de sanciones por parte de las autoridades internas del inmueble sometido al régimen de propiedad horizontal, habrá de respetarse y garantizarse a los no propietarios el ejercicio del derecho de defensa. \\n\\n'}]"
      ]
     },
     "execution_count": 27,
     "metadata": {},
     "output_type": "execute_result"
    }
   ],
   "source": [
    "lista_sentencias"
   ]
  },
  {
   "cell_type": "markdown",
   "metadata": {},
   "source": [
    "#### Read C-738-02 file"
   ]
  },
  {
   "cell_type": "code",
   "execution_count": 28,
   "metadata": {},
   "outputs": [],
   "source": [
    "path = r'D:\\0_Respaldo\\000_KaggleX\\Projects\\Rag-Ley675\\675_LAW\\data\\raw\\Sentencias\\C-738-02.rtf'"
   ]
  },
  {
   "cell_type": "code",
   "execution_count": 29,
   "metadata": {},
   "outputs": [],
   "source": [
    "c_738 = leer_archivo_rtf(path)"
   ]
  },
  {
   "cell_type": "code",
   "execution_count": 30,
   "metadata": {},
   "outputs": [
    {
     "name": "stdout",
     "output_type": "stream",
     "text": [
      "Sentencia C-738/02\n",
      "\n",
      "REGIMEN DE PROPIEDAD HORIZONTA\n"
     ]
    }
   ],
   "source": [
    "print(c_738[:50])"
   ]
  },
  {
   "cell_type": "code",
   "execution_count": 31,
   "metadata": {},
   "outputs": [],
   "source": [
    "#Patron\n",
    "patron_sentencia_titulo = r\"(Sentencia\\s\\w-\\d{3}/\\d{2})\"\n",
    "patron_articulos_demandados = re.compile(r'EL\\s*TEXTO\\s*DE\\s*LAS\\s*NORMAS\\s*ACUSADAS\\s*([\\s\\S]*?)(?=\\nLA\\s*DEMANDA)', re.DOTALL)\n",
    "patron_demanda = re.compile(r'(\\nLA\\s*DEMANDA\\n)\\s*(.*?)(?=INTERVENCIONES)', re.DOTALL)\n",
    "patron_decision = re.compile(r'DECISIÓN\\n\\s*(.*?)(?=\\nCópiese, notifíquese, publíquese)', re.DOTALL)\n",
    "patron_articulos = re.compile(r'(Artículo\\s)(\\d{1,2})', re.DOTALL)"
   ]
  },
  {
   "cell_type": "code",
   "execution_count": 32,
   "metadata": {},
   "outputs": [],
   "source": [
    "s_demanda = re.search(patron_demanda, c_738)\n",
    "s_decision = re.search(patron_decision, c_738)\n",
    "a_demandados = re.search(patron_articulos_demandados, c_738)\n",
    "articulos_738 = re.findall(patron_articulos, a_demandados.group(1))"
   ]
  },
  {
   "cell_type": "code",
   "execution_count": 33,
   "metadata": {},
   "outputs": [
    {
     "data": {
      "text/plain": [
       "[('Artículo ', '3'),\n",
       " ('Artículo ', '20'),\n",
       " ('Artículo ', '21'),\n",
       " ('Artículo ', '22'),\n",
       " ('Artículo ', '45'),\n",
       " ('Artículo ', '46'),\n",
       " ('Artículo ', '56'),\n",
       " ('Artículo ', '57'),\n",
       " ('Artículo ', '59'),\n",
       " ('Artículo ', '76')]"
      ]
     },
     "execution_count": 33,
     "metadata": {},
     "output_type": "execute_result"
    }
   ],
   "source": [
    "articulos_738"
   ]
  },
  {
   "cell_type": "code",
   "execution_count": 34,
   "metadata": {},
   "outputs": [],
   "source": [
    "nodo_dict = {}\n",
    "nodo_dict = {\n",
    "    \"sentencia_id\":738,\n",
    "    \"sentencia_name\":sentencia_n.group(1),\n",
    "    \"demanda\": s_demanda.group(2),\n",
    "    \"decision\":s_decision.group(1)\n",
    "    }\n"
   ]
  },
  {
   "cell_type": "code",
   "execution_count": 35,
   "metadata": {},
   "outputs": [
    {
     "data": {
      "text/plain": [
       "[{'sentencia_id': 318,\n",
       "  'sentencia_name': 'Sentencia C-318/02',\n",
       "  'demanda': 'Considera el actor que las normas demandadas violan el preámbulo de la Constitución y los artículos 1, 2, 5, 13, 14, 23, 29, 40, 58, 95, 103, 112, 158 y 229 de la Carta. El concepto de violación se tratará de resumir así :\\n\\nLa Ley 675 de 2001, desde su inicio, desconoce la realidad del país, en el sentido de que al lado de los derechos de los propietarios de las unidades privadas en los edificios o conjuntos, concurren los derechos de otras personas, que son moradores de tales unidades, en calidad de poseedores, tenedores, arrendatarios, cuyos derechos también deben ser respetados. \\n\\nPor desconocer esta realidad, la Ley está estructurada, desde su objeto mismo, otorgando a los propietarios un poder “de dominación antidemocrático sobre los demás miembros de la comunidad social”. Señala, también, que “De manera absolutamente abusiva y arbitraria, y por ende ilegal, la ley 675 estatuye a favor de los propietarios de unidades privadas todo un amplio catálogo de derechos y tan solo consagra respecto de los tenedores obligaciones y sanciones.”\\n\\nEl artículo 1º acusado, no obstante anunciar que la finalidad del régimen de propiedad horizontal es garantizar la seguridad y la convivencia pacífica en los inmuebles sometidos a ella, y la función social de la sociedad, esta finalidad no se refleja, ya que sólo regula lo que atañe a los propietarios. \\n\\nLa Ley 675 ataca la estructura del ordenamiento jurídico civil, ya que se impone sobre las instituciones legales como la posesión y tenencia reguladas por los artículos 762 a 781 del Código Civil. De esta forma se produce la violación del artículo 158 de la Constitución, por violación a la unidad de materia. \\n\\nSeñala que las partes subrayadas de los artículos acusados impiden la regulación de la convivencia pacifica en los edificios y conjuntos a quienes no sean propietarios, lo que crea una verdadera injusticia y desigualdad. \\n\\nEsto se refleja, en especial, en la forma como está concebida la propiedad horizontal. En efecto, el artículo 32 señala que la propiedad horizontal es una persona jurídica conformada únicamente por los dueños de dominio particular. Es decir, deja expresamente por fuera a quienes no tienen el carácter de propietarios. \\n\\nSin embargo, el artículo 37, inciso 3, establece que las decisiones de la asamblea general son de obligatorio cumplimiento no sólo para los propietarios del edificio, sino para todos sus usuarios y ocupantes. \\n\\nPara el actor, extender las decisiones de la asamblea general a quienes no son propietarios, viola el artículo 2 de la Constitución, en cuanto expresa que en las decisiones que afectan a todos, deben participar todos. Además, se  desconoce el artículo 14 de la Carta, pues se niega el derecho a tener  personalidad jurídica a quienes no son propietarios. Los tenedores y poseedores, tampoco tienen derecho a elegir y ser elegido en los órganos de representación de la copropiedad. Ni tienen acción ante la Alcaldía. \\n\\nLa violación del debido proceso y del acceso a la administración de justicia, la explica el demandante así :\\n\\n“El artículo 37 de la Ley 675, pregona que las decisiones de la asamblea general son obligatorias para los propietarios, usuarios y ocupantes del edificio o conjunto. El artículo 59 ibídem, permite sancionar las conductas de propietarios, tenedores o terceros. \\n\\n“Sin embargo, el artículo 49 de la ley en comento, haciendo coro con el artículo 62 de la misma, solamente permiten que el administrador, el revisor fiscal y los propietarios de bienes privados, tengan derecho de acción para impugnar las decisiones corrientes de la asamblea general; y solamente se permite que el propietario sancionado impugne la decisión sancionatoria. \\n\\n“Tamaño adefesio significa, que pese a que el reglamento y las decisiones de la asamblea cobijan por igual a propietarios, ocupantes y usuarios, solamente los primeros pueden ejercitar el derecho de acción para demandar las decisiones que les afecten. Ello, desconoce el principio de igualdad, niega el derecho de acceso a la administración de justicia de miembros del colectivo distintos a los propietarios, y consagra un orden injusto, contrario al orden justo que implanta la Carta.\\n\\n“El derecho fundamental al debido proceso, que incluye el de contradicción y defensa experimenta un desconocimiento absoluto a través de las normas acusadas de la ley cuando se contempla que solamente el propietario de bien privado que ha sido sancionado puede impugnar las sanciones por incumplimiento de obligaciones no pecuniarias.”\\n',\n",
       "  'decision': 'En mérito de lo expuesto, la Corte Constitucional de la República de Colombia, administrando justicia en nombre del pueblo y por mandato de la Constitución,\\n\\nRESUELVE :\\n\\nPrimero : Declarar exequibles por los cargos formulados, lo acusado de los artículos 1, 3, parcial, 32, parcial, 37, parcial, 39, parcial, 42, parcial, 43, parcial, 44, parcial, 45, parcial, 47, parcial, 49, parcial, 50, parcial, 51, parcial, 53, parcial, 58, parcial, 59, parcial, y 62, parcial, de la Ley 675 de 2001, “Por medio de la cual se expide el régimen de propiedad horizontal.”, bajo el entendido de que los moradores no propietarios de inmuebles sometidos al régimen de propiedad horizontal podrán ejercer ante las autoridades internas del mismo el derecho de petición, así como el de ser oídos en las decisiones que puedan afectarlos, conforme a lo expuesto en la parte motiva de esta sentencia.\\n\\nSegundo : Igualmente, se declara la exequibilidad de las normas acusadas bajo el entendido de que, cuando se trate de la imposición de sanciones por parte de las autoridades internas del inmueble sometido al régimen de propiedad horizontal, habrá de respetarse y garantizarse a los no propietarios el ejercicio del derecho de defensa. \\n\\n'},\n",
       " {'sentencia_id': 738,\n",
       "  'sentencia_name': 'Sentencia C-318/02',\n",
       "  'demanda': 'El demandante considera que las normas que acusa violan los artículos 1, 6, 13, 16, 38, 58, 63, 83, 145, 146 y 333 de la Constitución Política.\\n\\nComo introducción a la exposición de los cargos que posteriormente se aducen de manera particular contra cada una de las normas demandadas, el actor expone que siendo que la Ley 675 de 2001 regula relaciones que se circunscriben al ámbito del derecho privado, debe tenerse en cuenta que en ellas prima la autonomía de la voluntad de los propietarios de los bienes privados que conforman una propiedad horizontal. En tal virtud, las disposiciones en ella incluidas “que impiden la autodeterminación de un conglomerado legal de ciudadanos, dificultan la búsqueda de la sana convivencia, la solidaridad, la libertad, el respeto a la dignidad humana, y, sobre todo, chocan con la práctica de la democracia” y, por ello, vulneran diversos preceptos superiores. Adicionalmente, pone de presente que la Ley que acusa no fue concebida para regular entidades con ánimo de lucro, y por esa razón sus disposiciones deben acomodarse a esta realidad. \\n\\nEn relación concreta con las normas que particularmente acusa, el actor expone los siguientes cargos:\\n\\n- Respecto de la expresión que demanda del artículo 3°, que indica que en los edificios o conjuntos de uso comercial, los costos de mercadeo tendrán el carácter de expensa común necesaria, sin perjuicio de las excepciones y restricciones que el reglamento de propiedad horizontal respectivo establezca, el actor indica que esta norma resulta contraria a los artículos 1°, 6° y 16 de la Constitución, pues “los bienes comunes de que son condueños los propietarios de los bienes privados integrantes del conjunto o edificio, no tienen carácter mercantil y la persona jurídica que los administra tampoco”. En efecto, afirma que tal persona jurídica  sólo tiene por objeto administrar dichos bienes comunes, por lo cual es de naturaleza civil, sin ánimo de lucro, como expresamente lo establecen los artículos 32 y 33 de la misma Ley 675 de 2001. \\n\\nAl no tenerse en cuenta lo anterior y “con el hecho de dar a los costos de mercadeo el carácter de expensas necesarias, se está obligando a todos los propietarios de bienes comunes a incurrir en este tipo de gasto, así no lo necesite o no quiera hacerlos”. Esto, en su sentir, desconoce la dignidad humana y resulta arbitrario en cuanto impide a la Asamblea General, donde se expresa la autonomía de la voluntad de los copropietarios, adoptar decisiones acordes con el objeto social de la persona jurídica encargada de administrar los bienes comunes. \\n\\n- En cuanto al artículo 20, que prescribe que “la asamblea general, con el voto favorable de un número plural de propietarios de bienes de dominio privado que representen el setenta por ciento (70%) de los coeficientes de copropiedad de un conjunto o edificio, podrá desafectar la calidad de común de bienes comunes no esenciales, los cuales pasarán a ser del dominio particular de la persona jurídica que surge como efecto de la constitución al régimen de propiedad horizontal”, el actor afirma que esta norma permite una “desmembración de la propiedad horizontal”,  propiedad cuya razón de ser son justamente los bienes comunes, “ingrediente esencial de la vida en comunidad”. Por ello, sostiene que esta disposición atenta contra el artículo 38 superior, que garantiza la libertad de asociación, así como contra el 63 ibidem, según el cual “(l)os bienes de uso público, los parques naturales, las tierras comunales de grupos étnicos, las tierras de resguardo, el patrimonio arqueológico de la Nación y los demás bienes que determine la ley, son inalienables, imprescriptibles e inembargables.” \\n\\nEn cuanto a los artículos 21 y 22 de la Ley 675 que también acusa, sin aducir cargos concretos afirma que, en el evento de resultar inexequible el artículo 20, no tendría objeto mantenerlos dentro del ordenamiento. \\n\\n- En relación con el artículo 45 que contiene normas sobre quórum y mayorías para deliberar y para decidir en las reuniones de las asambleas generales de copropietarios, el demandante afirma que “en forma autoritaria impone la mayoría absoluta para adoptar decisiones que no requieren mayoría calificada, como si esta fuera la única fórmula existente”; es decir, a juicio del demandante la norma contenida en este artículo proscribe otras fórmulas de decisión como lo serían, por ejemplo, las mayorías simples o relativas, útiles para los casos en que existen más de dos propuestas alusivas a un tema. Con este proceder, estima  desconocida la autonomía de la voluntad que prevalece en las relaciones de derecho privado, con lo cual resultan desconocidos los artículos 1°, 6°, 16, 145  y 146 de la Carta. \\n\\n- La acusación contra el artículo 46, que señala los casos en que las  decisiones de la asamblea general requerirán mayoría calificada del setenta por ciento (70%) de los coeficientes de copropiedad que integran el edificio o conjunto, consiste en aducir que este mandato contiene el mismo autoritarismo del artículo 45 anterior. Es decir, el actor encuentra constitucionalmente reprochable que no se permita ninguna otra alternativa para la toma de esta clase de decisiones, lo cual, a su juicio, equivale a un desconocimiento de la dignidad humana, la autonomía de la voluntad de los copropietarios, la libertad y el principio democrático a que aluden los artículos 1°, 6°, 16 y 83 de la Constitución.  \\n\\nEn cuanto a los artículos 56 y 57 que conforman el Capítulo XIII del Título I, íntegramente acusado, los cuales prescriben la obligatoriedad del nombramiento de un revisor fiscal en los conjuntos de uso comercial o mixto, que deberá ser contador público y que entre otros impedimentos se ve cobijado por el de ser propietario o tenedor de bienes privados, el demandante estima que ellos desconocen concretamente los artículos 1°, 2°, 6°, 13, 16, 83, y 333 de la Carta. Para sustentar este cargo afirma que por control interno se entiende “la vigilancia sobre su propio ente ejercida por la misma administración”; siendo que para llevar a cabo dicho control interno no se requiere la intervención de un contador público, estima que para ejercer la revisoría fiscal tampoco debe exigirse. El revisor fiscal, afirma, “es una autoridad vigilante que actúa en representación de los copropietarios cuando no produce resultados positivos el control interno”, ... “de tal manera que si la autoridad de control interno no requiere la calidad de contador público, para ejercitar la misma función el Revisor Fiscal no debe tener calidad distinta a la primera.”\\n\\nEsta exigencia, continua la demanda, se debe a que estos artículos, como toda la ley, reglamentan la propiedad horizontal como si se tratara de una sociedad comercial, desconociendo que su verdadera naturaleza es la de ser una sociedad sin ánimo de lucro. Al proceder así, el legislador se extralimita en sus funciones (por lo cual viola el artículo 6° superior) y se entromete indebidamente en la copropiedad impidiendo a la voluntad de la mayoría adoptar las decisiones acordes con su razón de ser. (Por esta razón desconoce el artículo 16 de la Carta). Además, “al remitir a los copropietarios al control externo, está presumiendo la mala fe e incapacidad de los propietarios para resolver sus asuntos administrativos”, por lo cual vulnera el artículo 83 constitucional. \\n\\nEn cuanto al desconocimiento del artículo 333 de la Constitución, el demandante expone de la siguiente manera el concepto de violación: afirma que el hecho de que el conjunto o edificio tenga inmuebles de uso privado destinados al comercio no modifica el carácter de entidad sin ánimo de lucro que se reconoce a la persona jurídica que administra los bienes comunes. Esta persona jurídica “conforma una organización solidaria que debe funcionar como tal”, propósito que se ve frustrado por las exigencias del legislador.\\n\\nFinalmente, en relación con los artículos 56 y 57 el demandante estima que resultan contrarios al artículo 13 de la Carta, que consagra el derecho a la igualdad, pues impone el requisito de tener revisor fiscal sólo a unas copropiedades -las de uso comercial o mixto- mientras libera a otras de esta obligación “a pesar de tratarse de personas jurídicas del mismo carácter.”\\n\\n-Respecto del numeral 1° del artículo 59 que dentro de las sanciones que por incumplimiento de obligaciones no pecuniarias que pueden ser impuestas a los propietarios, tenedores o terceros, incluye la de la publicación en lugares de amplia circulación de la lista de infractores, con indicación expresa del hecho o acto que origina la sanción, el demandante arguye que si la Constitución protege el derecho a la intimidad, las autoridades no pueden disponer la difusión de las faltas o errores “en que lleguen a incurrir los habitantes de una propiedad horizontal”. A su juicio, “esta disposición en una coacción lacerante sobre quien recaiga”. \\n\\n- Por último, el actor demanda el numeral 2° del artículo 76 de la Ley 675 de 2001, que enumera a la Junta Administradora dentro de las autoridades internas de las Unidades Inmobiliarias Cerradas señalando que, cuando exista, estará compuesta “por los copropietarios o moradores”.  Esta última expresión es la que motiva el reproche del demandante, pues estima que la ley “con la inclusión de los moradores en la Junta Administradora, está desconociendo el derecho exclusivo que asiste a los copropietarios de la Unidad Inmobiliaria Carrada para administrar directamente los bienes comunes de sus propiedades privadas” pues “sin desconocer que la propiedad tiene una función social que implica obligaciones, el legislador no debe introducir condiciones que pongan en riesgo el derecho que, además del Art. 58 de la C.N., el Art. 17 de la declaración de los derechos del hombre considera sagrado e inviolable pues, siendo inherente a la persona, no puede ser afectado por actos contrarios a la razón y a la justicia”. \\n\\n\\n',\n",
       "  'decision': 'En mérito de lo expuesto, la Sala Plena de la Corte Constitucional, oído el concepto del señor procurador general de la Nación y cumplidos los trámites previstos en el Decreto 2067 de 1991, administrando justicia en nombre del pueblo y por mandato de la Constitución,\\n\\n\\nRESUELVE\\n\\nPrimero: Declararse INHIBIDA para llevar a cabo un pronunciamiento de fondo en relación con los artículos 20, 21, 22 y 46 de la Ley 675 de 2001, por ineptitud sustancial de la demanda. \\n\\nSegundo: Declarar EXEQUIBLE la expresión “En los edificios o conjuntos de uso comercial, los costos de mercadeo tendrán el carácter de expensa común necesaria, sin perjuicio de las excepciones y restricciones que el reglamento de propiedad horizontal respectivo establezca”contenida en el artículo 3° de la Ley 675 de 2001 y los artículos 56, 57, 59 numeral primero  y 76 numeral segundo de la misma Ley, pero solamente por los cargos analizados en la presente decisión. Salvo la palabra “titulado” contenida en el artículo 56 de la Ley 675 de 2001, respecto de la cual se ordena   ESTARSE A LO RESUELTO en la Sentencia C-670 de 2002.\\n  \\nTercero. Declarar EXEQUIBLE el artículo 45 de la Ley 675 de 2001, en los términos del fundamento jurídico número 14 de la parte considerativa de la presente Sentencia y solamente en relación con los cargos estudiados en la presente decisión; y declararse INHIBIDA respecto de las acusaciones formuladas contra esta misma disposición por violación del artículo 83 de la Constitución Política y de las normas constitucionales sobre quórum y mayorías deliberatoria y decisoria en la cámaras legislativas. \\n'}]"
      ]
     },
     "execution_count": 35,
     "metadata": {},
     "output_type": "execute_result"
    }
   ],
   "source": [
    "lista_sentencias.append(nodo_dict)\n",
    "lista_sentencias"
   ]
  },
  {
   "cell_type": "markdown",
   "metadata": {},
   "source": [
    "#### Sentences 782"
   ]
  },
  {
   "cell_type": "code",
   "execution_count": 36,
   "metadata": {},
   "outputs": [],
   "source": [
    "path = r'D:\\0_Respaldo\\000_KaggleX\\Projects\\Rag-Ley675\\675_LAW\\data\\raw\\Sentencias\\C-782-04.rtf'"
   ]
  },
  {
   "cell_type": "code",
   "execution_count": 37,
   "metadata": {},
   "outputs": [],
   "source": [
    "c_782 = leer_archivo_rtf(path)"
   ]
  },
  {
   "cell_type": "code",
   "execution_count": 38,
   "metadata": {},
   "outputs": [],
   "source": [
    "#Patron\n",
    "patron_sentencia_titulo = r\"(Sentencia\\s\\w-\\d{3}/\\d{2})\"\n",
    "patron_demanda = re.compile(r'(LA\\s*DEMANDA\\.\\n)\\s*(.*?)(?=INTERVENCIONES)', re.DOTALL)\n",
    "patron_decision = re.compile(r'DECISIÓN\\n\\s*(.*?)(?=\\nNotifíquese, comuníquese, cúmplase, publíquese,)', re.DOTALL)\n"
   ]
  },
  {
   "cell_type": "code",
   "execution_count": 39,
   "metadata": {},
   "outputs": [],
   "source": [
    "sentencia_n = re.search(patron_sentencia_titulo, c_782)\n",
    "s_demanda = re.search(patron_demanda, c_782)\n",
    "s_decision = re.search(patron_decision, c_782)\n",
    "articulos_782 = [('Artículo ', '3'), ('Artículo ', '25')]"
   ]
  },
  {
   "cell_type": "code",
   "execution_count": 40,
   "metadata": {},
   "outputs": [],
   "source": [
    "nodo_dict = {}\n",
    "nodo_dict = {\n",
    "    \"sentencia_id\":782,\n",
    "    \"sentencia_name\":sentencia_n.group(1),\n",
    "    \"demanda\": s_demanda.group(2),\n",
    "    \"decision\":s_decision.group(1)\n",
    "    }"
   ]
  },
  {
   "cell_type": "code",
   "execution_count": 41,
   "metadata": {},
   "outputs": [
    {
     "data": {
      "text/plain": [
       "[{'sentencia_id': 318,\n",
       "  'sentencia_name': 'Sentencia C-318/02',\n",
       "  'demanda': 'Considera el actor que las normas demandadas violan el preámbulo de la Constitución y los artículos 1, 2, 5, 13, 14, 23, 29, 40, 58, 95, 103, 112, 158 y 229 de la Carta. El concepto de violación se tratará de resumir así :\\n\\nLa Ley 675 de 2001, desde su inicio, desconoce la realidad del país, en el sentido de que al lado de los derechos de los propietarios de las unidades privadas en los edificios o conjuntos, concurren los derechos de otras personas, que son moradores de tales unidades, en calidad de poseedores, tenedores, arrendatarios, cuyos derechos también deben ser respetados. \\n\\nPor desconocer esta realidad, la Ley está estructurada, desde su objeto mismo, otorgando a los propietarios un poder “de dominación antidemocrático sobre los demás miembros de la comunidad social”. Señala, también, que “De manera absolutamente abusiva y arbitraria, y por ende ilegal, la ley 675 estatuye a favor de los propietarios de unidades privadas todo un amplio catálogo de derechos y tan solo consagra respecto de los tenedores obligaciones y sanciones.”\\n\\nEl artículo 1º acusado, no obstante anunciar que la finalidad del régimen de propiedad horizontal es garantizar la seguridad y la convivencia pacífica en los inmuebles sometidos a ella, y la función social de la sociedad, esta finalidad no se refleja, ya que sólo regula lo que atañe a los propietarios. \\n\\nLa Ley 675 ataca la estructura del ordenamiento jurídico civil, ya que se impone sobre las instituciones legales como la posesión y tenencia reguladas por los artículos 762 a 781 del Código Civil. De esta forma se produce la violación del artículo 158 de la Constitución, por violación a la unidad de materia. \\n\\nSeñala que las partes subrayadas de los artículos acusados impiden la regulación de la convivencia pacifica en los edificios y conjuntos a quienes no sean propietarios, lo que crea una verdadera injusticia y desigualdad. \\n\\nEsto se refleja, en especial, en la forma como está concebida la propiedad horizontal. En efecto, el artículo 32 señala que la propiedad horizontal es una persona jurídica conformada únicamente por los dueños de dominio particular. Es decir, deja expresamente por fuera a quienes no tienen el carácter de propietarios. \\n\\nSin embargo, el artículo 37, inciso 3, establece que las decisiones de la asamblea general son de obligatorio cumplimiento no sólo para los propietarios del edificio, sino para todos sus usuarios y ocupantes. \\n\\nPara el actor, extender las decisiones de la asamblea general a quienes no son propietarios, viola el artículo 2 de la Constitución, en cuanto expresa que en las decisiones que afectan a todos, deben participar todos. Además, se  desconoce el artículo 14 de la Carta, pues se niega el derecho a tener  personalidad jurídica a quienes no son propietarios. Los tenedores y poseedores, tampoco tienen derecho a elegir y ser elegido en los órganos de representación de la copropiedad. Ni tienen acción ante la Alcaldía. \\n\\nLa violación del debido proceso y del acceso a la administración de justicia, la explica el demandante así :\\n\\n“El artículo 37 de la Ley 675, pregona que las decisiones de la asamblea general son obligatorias para los propietarios, usuarios y ocupantes del edificio o conjunto. El artículo 59 ibídem, permite sancionar las conductas de propietarios, tenedores o terceros. \\n\\n“Sin embargo, el artículo 49 de la ley en comento, haciendo coro con el artículo 62 de la misma, solamente permiten que el administrador, el revisor fiscal y los propietarios de bienes privados, tengan derecho de acción para impugnar las decisiones corrientes de la asamblea general; y solamente se permite que el propietario sancionado impugne la decisión sancionatoria. \\n\\n“Tamaño adefesio significa, que pese a que el reglamento y las decisiones de la asamblea cobijan por igual a propietarios, ocupantes y usuarios, solamente los primeros pueden ejercitar el derecho de acción para demandar las decisiones que les afecten. Ello, desconoce el principio de igualdad, niega el derecho de acceso a la administración de justicia de miembros del colectivo distintos a los propietarios, y consagra un orden injusto, contrario al orden justo que implanta la Carta.\\n\\n“El derecho fundamental al debido proceso, que incluye el de contradicción y defensa experimenta un desconocimiento absoluto a través de las normas acusadas de la ley cuando se contempla que solamente el propietario de bien privado que ha sido sancionado puede impugnar las sanciones por incumplimiento de obligaciones no pecuniarias.”\\n',\n",
       "  'decision': 'En mérito de lo expuesto, la Corte Constitucional de la República de Colombia, administrando justicia en nombre del pueblo y por mandato de la Constitución,\\n\\nRESUELVE :\\n\\nPrimero : Declarar exequibles por los cargos formulados, lo acusado de los artículos 1, 3, parcial, 32, parcial, 37, parcial, 39, parcial, 42, parcial, 43, parcial, 44, parcial, 45, parcial, 47, parcial, 49, parcial, 50, parcial, 51, parcial, 53, parcial, 58, parcial, 59, parcial, y 62, parcial, de la Ley 675 de 2001, “Por medio de la cual se expide el régimen de propiedad horizontal.”, bajo el entendido de que los moradores no propietarios de inmuebles sometidos al régimen de propiedad horizontal podrán ejercer ante las autoridades internas del mismo el derecho de petición, así como el de ser oídos en las decisiones que puedan afectarlos, conforme a lo expuesto en la parte motiva de esta sentencia.\\n\\nSegundo : Igualmente, se declara la exequibilidad de las normas acusadas bajo el entendido de que, cuando se trate de la imposición de sanciones por parte de las autoridades internas del inmueble sometido al régimen de propiedad horizontal, habrá de respetarse y garantizarse a los no propietarios el ejercicio del derecho de defensa. \\n\\n'},\n",
       " {'sentencia_id': 738,\n",
       "  'sentencia_name': 'Sentencia C-318/02',\n",
       "  'demanda': 'El demandante considera que las normas que acusa violan los artículos 1, 6, 13, 16, 38, 58, 63, 83, 145, 146 y 333 de la Constitución Política.\\n\\nComo introducción a la exposición de los cargos que posteriormente se aducen de manera particular contra cada una de las normas demandadas, el actor expone que siendo que la Ley 675 de 2001 regula relaciones que se circunscriben al ámbito del derecho privado, debe tenerse en cuenta que en ellas prima la autonomía de la voluntad de los propietarios de los bienes privados que conforman una propiedad horizontal. En tal virtud, las disposiciones en ella incluidas “que impiden la autodeterminación de un conglomerado legal de ciudadanos, dificultan la búsqueda de la sana convivencia, la solidaridad, la libertad, el respeto a la dignidad humana, y, sobre todo, chocan con la práctica de la democracia” y, por ello, vulneran diversos preceptos superiores. Adicionalmente, pone de presente que la Ley que acusa no fue concebida para regular entidades con ánimo de lucro, y por esa razón sus disposiciones deben acomodarse a esta realidad. \\n\\nEn relación concreta con las normas que particularmente acusa, el actor expone los siguientes cargos:\\n\\n- Respecto de la expresión que demanda del artículo 3°, que indica que en los edificios o conjuntos de uso comercial, los costos de mercadeo tendrán el carácter de expensa común necesaria, sin perjuicio de las excepciones y restricciones que el reglamento de propiedad horizontal respectivo establezca, el actor indica que esta norma resulta contraria a los artículos 1°, 6° y 16 de la Constitución, pues “los bienes comunes de que son condueños los propietarios de los bienes privados integrantes del conjunto o edificio, no tienen carácter mercantil y la persona jurídica que los administra tampoco”. En efecto, afirma que tal persona jurídica  sólo tiene por objeto administrar dichos bienes comunes, por lo cual es de naturaleza civil, sin ánimo de lucro, como expresamente lo establecen los artículos 32 y 33 de la misma Ley 675 de 2001. \\n\\nAl no tenerse en cuenta lo anterior y “con el hecho de dar a los costos de mercadeo el carácter de expensas necesarias, se está obligando a todos los propietarios de bienes comunes a incurrir en este tipo de gasto, así no lo necesite o no quiera hacerlos”. Esto, en su sentir, desconoce la dignidad humana y resulta arbitrario en cuanto impide a la Asamblea General, donde se expresa la autonomía de la voluntad de los copropietarios, adoptar decisiones acordes con el objeto social de la persona jurídica encargada de administrar los bienes comunes. \\n\\n- En cuanto al artículo 20, que prescribe que “la asamblea general, con el voto favorable de un número plural de propietarios de bienes de dominio privado que representen el setenta por ciento (70%) de los coeficientes de copropiedad de un conjunto o edificio, podrá desafectar la calidad de común de bienes comunes no esenciales, los cuales pasarán a ser del dominio particular de la persona jurídica que surge como efecto de la constitución al régimen de propiedad horizontal”, el actor afirma que esta norma permite una “desmembración de la propiedad horizontal”,  propiedad cuya razón de ser son justamente los bienes comunes, “ingrediente esencial de la vida en comunidad”. Por ello, sostiene que esta disposición atenta contra el artículo 38 superior, que garantiza la libertad de asociación, así como contra el 63 ibidem, según el cual “(l)os bienes de uso público, los parques naturales, las tierras comunales de grupos étnicos, las tierras de resguardo, el patrimonio arqueológico de la Nación y los demás bienes que determine la ley, son inalienables, imprescriptibles e inembargables.” \\n\\nEn cuanto a los artículos 21 y 22 de la Ley 675 que también acusa, sin aducir cargos concretos afirma que, en el evento de resultar inexequible el artículo 20, no tendría objeto mantenerlos dentro del ordenamiento. \\n\\n- En relación con el artículo 45 que contiene normas sobre quórum y mayorías para deliberar y para decidir en las reuniones de las asambleas generales de copropietarios, el demandante afirma que “en forma autoritaria impone la mayoría absoluta para adoptar decisiones que no requieren mayoría calificada, como si esta fuera la única fórmula existente”; es decir, a juicio del demandante la norma contenida en este artículo proscribe otras fórmulas de decisión como lo serían, por ejemplo, las mayorías simples o relativas, útiles para los casos en que existen más de dos propuestas alusivas a un tema. Con este proceder, estima  desconocida la autonomía de la voluntad que prevalece en las relaciones de derecho privado, con lo cual resultan desconocidos los artículos 1°, 6°, 16, 145  y 146 de la Carta. \\n\\n- La acusación contra el artículo 46, que señala los casos en que las  decisiones de la asamblea general requerirán mayoría calificada del setenta por ciento (70%) de los coeficientes de copropiedad que integran el edificio o conjunto, consiste en aducir que este mandato contiene el mismo autoritarismo del artículo 45 anterior. Es decir, el actor encuentra constitucionalmente reprochable que no se permita ninguna otra alternativa para la toma de esta clase de decisiones, lo cual, a su juicio, equivale a un desconocimiento de la dignidad humana, la autonomía de la voluntad de los copropietarios, la libertad y el principio democrático a que aluden los artículos 1°, 6°, 16 y 83 de la Constitución.  \\n\\nEn cuanto a los artículos 56 y 57 que conforman el Capítulo XIII del Título I, íntegramente acusado, los cuales prescriben la obligatoriedad del nombramiento de un revisor fiscal en los conjuntos de uso comercial o mixto, que deberá ser contador público y que entre otros impedimentos se ve cobijado por el de ser propietario o tenedor de bienes privados, el demandante estima que ellos desconocen concretamente los artículos 1°, 2°, 6°, 13, 16, 83, y 333 de la Carta. Para sustentar este cargo afirma que por control interno se entiende “la vigilancia sobre su propio ente ejercida por la misma administración”; siendo que para llevar a cabo dicho control interno no se requiere la intervención de un contador público, estima que para ejercer la revisoría fiscal tampoco debe exigirse. El revisor fiscal, afirma, “es una autoridad vigilante que actúa en representación de los copropietarios cuando no produce resultados positivos el control interno”, ... “de tal manera que si la autoridad de control interno no requiere la calidad de contador público, para ejercitar la misma función el Revisor Fiscal no debe tener calidad distinta a la primera.”\\n\\nEsta exigencia, continua la demanda, se debe a que estos artículos, como toda la ley, reglamentan la propiedad horizontal como si se tratara de una sociedad comercial, desconociendo que su verdadera naturaleza es la de ser una sociedad sin ánimo de lucro. Al proceder así, el legislador se extralimita en sus funciones (por lo cual viola el artículo 6° superior) y se entromete indebidamente en la copropiedad impidiendo a la voluntad de la mayoría adoptar las decisiones acordes con su razón de ser. (Por esta razón desconoce el artículo 16 de la Carta). Además, “al remitir a los copropietarios al control externo, está presumiendo la mala fe e incapacidad de los propietarios para resolver sus asuntos administrativos”, por lo cual vulnera el artículo 83 constitucional. \\n\\nEn cuanto al desconocimiento del artículo 333 de la Constitución, el demandante expone de la siguiente manera el concepto de violación: afirma que el hecho de que el conjunto o edificio tenga inmuebles de uso privado destinados al comercio no modifica el carácter de entidad sin ánimo de lucro que se reconoce a la persona jurídica que administra los bienes comunes. Esta persona jurídica “conforma una organización solidaria que debe funcionar como tal”, propósito que se ve frustrado por las exigencias del legislador.\\n\\nFinalmente, en relación con los artículos 56 y 57 el demandante estima que resultan contrarios al artículo 13 de la Carta, que consagra el derecho a la igualdad, pues impone el requisito de tener revisor fiscal sólo a unas copropiedades -las de uso comercial o mixto- mientras libera a otras de esta obligación “a pesar de tratarse de personas jurídicas del mismo carácter.”\\n\\n-Respecto del numeral 1° del artículo 59 que dentro de las sanciones que por incumplimiento de obligaciones no pecuniarias que pueden ser impuestas a los propietarios, tenedores o terceros, incluye la de la publicación en lugares de amplia circulación de la lista de infractores, con indicación expresa del hecho o acto que origina la sanción, el demandante arguye que si la Constitución protege el derecho a la intimidad, las autoridades no pueden disponer la difusión de las faltas o errores “en que lleguen a incurrir los habitantes de una propiedad horizontal”. A su juicio, “esta disposición en una coacción lacerante sobre quien recaiga”. \\n\\n- Por último, el actor demanda el numeral 2° del artículo 76 de la Ley 675 de 2001, que enumera a la Junta Administradora dentro de las autoridades internas de las Unidades Inmobiliarias Cerradas señalando que, cuando exista, estará compuesta “por los copropietarios o moradores”.  Esta última expresión es la que motiva el reproche del demandante, pues estima que la ley “con la inclusión de los moradores en la Junta Administradora, está desconociendo el derecho exclusivo que asiste a los copropietarios de la Unidad Inmobiliaria Carrada para administrar directamente los bienes comunes de sus propiedades privadas” pues “sin desconocer que la propiedad tiene una función social que implica obligaciones, el legislador no debe introducir condiciones que pongan en riesgo el derecho que, además del Art. 58 de la C.N., el Art. 17 de la declaración de los derechos del hombre considera sagrado e inviolable pues, siendo inherente a la persona, no puede ser afectado por actos contrarios a la razón y a la justicia”. \\n\\n\\n',\n",
       "  'decision': 'En mérito de lo expuesto, la Sala Plena de la Corte Constitucional, oído el concepto del señor procurador general de la Nación y cumplidos los trámites previstos en el Decreto 2067 de 1991, administrando justicia en nombre del pueblo y por mandato de la Constitución,\\n\\n\\nRESUELVE\\n\\nPrimero: Declararse INHIBIDA para llevar a cabo un pronunciamiento de fondo en relación con los artículos 20, 21, 22 y 46 de la Ley 675 de 2001, por ineptitud sustancial de la demanda. \\n\\nSegundo: Declarar EXEQUIBLE la expresión “En los edificios o conjuntos de uso comercial, los costos de mercadeo tendrán el carácter de expensa común necesaria, sin perjuicio de las excepciones y restricciones que el reglamento de propiedad horizontal respectivo establezca”contenida en el artículo 3° de la Ley 675 de 2001 y los artículos 56, 57, 59 numeral primero  y 76 numeral segundo de la misma Ley, pero solamente por los cargos analizados en la presente decisión. Salvo la palabra “titulado” contenida en el artículo 56 de la Ley 675 de 2001, respecto de la cual se ordena   ESTARSE A LO RESUELTO en la Sentencia C-670 de 2002.\\n  \\nTercero. Declarar EXEQUIBLE el artículo 45 de la Ley 675 de 2001, en los términos del fundamento jurídico número 14 de la parte considerativa de la presente Sentencia y solamente en relación con los cargos estudiados en la presente decisión; y declararse INHIBIDA respecto de las acusaciones formuladas contra esta misma disposición por violación del artículo 83 de la Constitución Política y de las normas constitucionales sobre quórum y mayorías deliberatoria y decisoria en la cámaras legislativas. \\n'},\n",
       " {'sentencia_id': 782,\n",
       "  'sentencia_name': 'Sentencia C-782/04',\n",
       "  'demanda': 'El actor considera que las normas demandadas violan los artículos 2°, 13, 51 Y 58 de la Constitución. \\n\\nEl demandante comienza por precisar que a primera vista las normas acusadas respetan el principio de igualdad, al establecer que un inmueble que hace parte de un conjunto cerrado residencial o mixto sujeto al régimen de propiedad horizontal debe contribuir a los gastos comunes de acuerdo al coeficiente de propiedad, que es calculado con base en el área de cada inmueble, pues parece razonable y proporcionado que aquel inmueble que tenga mayor área deba pagar una mayor cuota de administración. Sin embargo, según su parecer, un examen más atento muestra que la anterior impresión es equivocada, ya que las normas acusadas desconocen el principio de igualdad. La razón, explica el actor, es que las cuotas de administración se dirigen a cubrir los gastos que generan las áreas comunes en personal, aseo, y por otros motivos, como papelería e imprevistos. Y por ello, argumenta el demandante, las normas acusadas desconocen el principio de igualdad por cuanto \"todos los residentes del conjunto sin importar el área de su inmueble gozan o disfrutan en igual proporción de los servicios comunes y de administración que se pagan con las expensas comunes a que están obligados .” según su criterio, los inmuebles de mayor existencia “no le causan necesariamente gastos adicionales al conjunto residencial en que se encuentran”, por lo que las normas acusadas son discriminatorias, ya que “la única razón justa para cobrar  una mayor expensa a un inmueble de mayor área sería el hecho de que dichos inmuebles le generarán al conjunto mayores costos.” (Las subrayas son del texto original)\\n\\nDebido a lo anterior, el actor considera que las disposiciones acusadas implican que los propietarios de los inmuebles de mayor área deben subsidiar a los propietarios de los inmuebles de menor extensión, lo cual es injustificado porque todos reciben en igual proporción los mismos servicios comunes y de administración. Según su parecer, la regulación compatible con el principio de igualdad es que la ley señale que las cuotas por administración sean idénticas para todos los inmuebles, o eventualmente proporcionadas al gasto que cada inmueble ocasione a la administración, en caso de que uno o varios inmuebles le causen mayor consumo de servicios comunes y de administración a un conjunto residencial o mixto. Por el contrario, considera el demandante, la regulación acusada no sólo afecta el principio de igualdad sino que, además, atenta contra el derecho a la propiedad, pues los dueños de inmueble s de gran extensión deben pagar cuotas de administración excesivas, que desvalorizan la propiedad, pues dificultan su venta o arrendamiento\\n\\nPor último, el demandante recuerda que la sentencia C-522 de 2002 mencionó que el coeficiente de copropiedad era el factor para determinar las expensas comunes o cuota de administración de un bien en propiedad horizontal, pero no existe cosa juzgada, pues dicha providencia no entró a \"estudiar la constitucionalidad o inconstitucionalidad de la norma que lo establece( articulo 25 numeral 3), pues esta no había sido demandada, partiéndose del hecho de su presunción de constitucionalidad.\\n \\n\\nIV- ',\n",
       "  'decision': 'En mérito de lo expuesto, la Sala Plena de la Corte Constitucional de la República de Colombia, administrando justicia en nombre del pueblo y por mandato de la Constitución,\\n\\n\\nRESUELVE\\n\\nDeclarar EXEQUIBLES, pero únicamente por los cargos analizados, el artículo 25 numeral 3° de la Ley 675 de 2001, así como el aparte acusado del artículo 3° de esa misma ley, el cual literalmente dice: \"la proporción con que cada uno contribuirá en las expensas comunes del edificio o conjunto, sin perjuicio de las que se determinen por módulos de contribución, en edificios o conjuntos de usó comercial o mixto. \"\\n'}]"
      ]
     },
     "execution_count": 41,
     "metadata": {},
     "output_type": "execute_result"
    }
   ],
   "source": [
    "lista_sentencias.append(nodo_dict)\n",
    "lista_sentencias"
   ]
  },
  {
   "cell_type": "markdown",
   "metadata": {},
   "source": [
    "#### Sentence SU509"
   ]
  },
  {
   "cell_type": "code",
   "execution_count": 42,
   "metadata": {},
   "outputs": [],
   "source": [
    "path = r'D:\\0_Respaldo\\000_KaggleX\\Projects\\Rag-Ley675\\675_LAW\\data\\raw\\Sentencias\\SU509-01.rtf'\n",
    "su509 = leer_archivo_rtf(path)"
   ]
  },
  {
   "cell_type": "code",
   "execution_count": 43,
   "metadata": {},
   "outputs": [
    {
     "name": "stdout",
     "output_type": "stream",
     "text": [
      "Sentencia SU.509/01\n",
      "\n",
      "ACCI\n"
     ]
    }
   ],
   "source": [
    "print(su509[:25])"
   ]
  },
  {
   "cell_type": "code",
   "execution_count": 44,
   "metadata": {},
   "outputs": [],
   "source": [
    "#Patron\n",
    "patron_sentencia_titulo = r\"(Sentencia\\s[A-Z]{2}\\.\\d{3}/\\d{2})\"\n",
    "patron_decision = re.compile(r'DECISION\\n\\s*(.*?)(?=\\nCópiese, notifíquese, comuníquese)', re.DOTALL)\n",
    "patron_antecedentes = re.compile(r'ANTECEDENTES\\n\\s*(.*?)(?=\\nSENTENCIAS)', re.DOTALL)"
   ]
  },
  {
   "cell_type": "code",
   "execution_count": 45,
   "metadata": {},
   "outputs": [],
   "source": [
    "s_ant = re.search(patron_antecedentes, su509)"
   ]
  },
  {
   "cell_type": "code",
   "execution_count": 46,
   "metadata": {},
   "outputs": [],
   "source": [
    "sentencia_n = re.search(patron_sentencia_titulo, su509)\n",
    "s_decision = re.search(patron_decision, su509)\n"
   ]
  },
  {
   "cell_type": "code",
   "execution_count": 47,
   "metadata": {},
   "outputs": [],
   "source": [
    "nodo_dict = {}\n",
    "nodo_dict = {\n",
    "    \"sentencia_id\":509,\n",
    "    \"sentencia_name\":sentencia_n.group(1),\n",
    "    \"demanda\": \"Reglas jurisprudenciales cuando hay suspensión de algunos servicios de administración en conjuntos de vivienda.\",\n",
    "    \"decision\":s_decision.group(1)\n",
    "    }"
   ]
  },
  {
   "cell_type": "code",
   "execution_count": 48,
   "metadata": {},
   "outputs": [
    {
     "data": {
      "text/plain": [
       "[{'sentencia_id': 318,\n",
       "  'sentencia_name': 'Sentencia C-318/02',\n",
       "  'demanda': 'Considera el actor que las normas demandadas violan el preámbulo de la Constitución y los artículos 1, 2, 5, 13, 14, 23, 29, 40, 58, 95, 103, 112, 158 y 229 de la Carta. El concepto de violación se tratará de resumir así :\\n\\nLa Ley 675 de 2001, desde su inicio, desconoce la realidad del país, en el sentido de que al lado de los derechos de los propietarios de las unidades privadas en los edificios o conjuntos, concurren los derechos de otras personas, que son moradores de tales unidades, en calidad de poseedores, tenedores, arrendatarios, cuyos derechos también deben ser respetados. \\n\\nPor desconocer esta realidad, la Ley está estructurada, desde su objeto mismo, otorgando a los propietarios un poder “de dominación antidemocrático sobre los demás miembros de la comunidad social”. Señala, también, que “De manera absolutamente abusiva y arbitraria, y por ende ilegal, la ley 675 estatuye a favor de los propietarios de unidades privadas todo un amplio catálogo de derechos y tan solo consagra respecto de los tenedores obligaciones y sanciones.”\\n\\nEl artículo 1º acusado, no obstante anunciar que la finalidad del régimen de propiedad horizontal es garantizar la seguridad y la convivencia pacífica en los inmuebles sometidos a ella, y la función social de la sociedad, esta finalidad no se refleja, ya que sólo regula lo que atañe a los propietarios. \\n\\nLa Ley 675 ataca la estructura del ordenamiento jurídico civil, ya que se impone sobre las instituciones legales como la posesión y tenencia reguladas por los artículos 762 a 781 del Código Civil. De esta forma se produce la violación del artículo 158 de la Constitución, por violación a la unidad de materia. \\n\\nSeñala que las partes subrayadas de los artículos acusados impiden la regulación de la convivencia pacifica en los edificios y conjuntos a quienes no sean propietarios, lo que crea una verdadera injusticia y desigualdad. \\n\\nEsto se refleja, en especial, en la forma como está concebida la propiedad horizontal. En efecto, el artículo 32 señala que la propiedad horizontal es una persona jurídica conformada únicamente por los dueños de dominio particular. Es decir, deja expresamente por fuera a quienes no tienen el carácter de propietarios. \\n\\nSin embargo, el artículo 37, inciso 3, establece que las decisiones de la asamblea general son de obligatorio cumplimiento no sólo para los propietarios del edificio, sino para todos sus usuarios y ocupantes. \\n\\nPara el actor, extender las decisiones de la asamblea general a quienes no son propietarios, viola el artículo 2 de la Constitución, en cuanto expresa que en las decisiones que afectan a todos, deben participar todos. Además, se  desconoce el artículo 14 de la Carta, pues se niega el derecho a tener  personalidad jurídica a quienes no son propietarios. Los tenedores y poseedores, tampoco tienen derecho a elegir y ser elegido en los órganos de representación de la copropiedad. Ni tienen acción ante la Alcaldía. \\n\\nLa violación del debido proceso y del acceso a la administración de justicia, la explica el demandante así :\\n\\n“El artículo 37 de la Ley 675, pregona que las decisiones de la asamblea general son obligatorias para los propietarios, usuarios y ocupantes del edificio o conjunto. El artículo 59 ibídem, permite sancionar las conductas de propietarios, tenedores o terceros. \\n\\n“Sin embargo, el artículo 49 de la ley en comento, haciendo coro con el artículo 62 de la misma, solamente permiten que el administrador, el revisor fiscal y los propietarios de bienes privados, tengan derecho de acción para impugnar las decisiones corrientes de la asamblea general; y solamente se permite que el propietario sancionado impugne la decisión sancionatoria. \\n\\n“Tamaño adefesio significa, que pese a que el reglamento y las decisiones de la asamblea cobijan por igual a propietarios, ocupantes y usuarios, solamente los primeros pueden ejercitar el derecho de acción para demandar las decisiones que les afecten. Ello, desconoce el principio de igualdad, niega el derecho de acceso a la administración de justicia de miembros del colectivo distintos a los propietarios, y consagra un orden injusto, contrario al orden justo que implanta la Carta.\\n\\n“El derecho fundamental al debido proceso, que incluye el de contradicción y defensa experimenta un desconocimiento absoluto a través de las normas acusadas de la ley cuando se contempla que solamente el propietario de bien privado que ha sido sancionado puede impugnar las sanciones por incumplimiento de obligaciones no pecuniarias.”\\n',\n",
       "  'decision': 'En mérito de lo expuesto, la Corte Constitucional de la República de Colombia, administrando justicia en nombre del pueblo y por mandato de la Constitución,\\n\\nRESUELVE :\\n\\nPrimero : Declarar exequibles por los cargos formulados, lo acusado de los artículos 1, 3, parcial, 32, parcial, 37, parcial, 39, parcial, 42, parcial, 43, parcial, 44, parcial, 45, parcial, 47, parcial, 49, parcial, 50, parcial, 51, parcial, 53, parcial, 58, parcial, 59, parcial, y 62, parcial, de la Ley 675 de 2001, “Por medio de la cual se expide el régimen de propiedad horizontal.”, bajo el entendido de que los moradores no propietarios de inmuebles sometidos al régimen de propiedad horizontal podrán ejercer ante las autoridades internas del mismo el derecho de petición, así como el de ser oídos en las decisiones que puedan afectarlos, conforme a lo expuesto en la parte motiva de esta sentencia.\\n\\nSegundo : Igualmente, se declara la exequibilidad de las normas acusadas bajo el entendido de que, cuando se trate de la imposición de sanciones por parte de las autoridades internas del inmueble sometido al régimen de propiedad horizontal, habrá de respetarse y garantizarse a los no propietarios el ejercicio del derecho de defensa. \\n\\n'},\n",
       " {'sentencia_id': 738,\n",
       "  'sentencia_name': 'Sentencia C-318/02',\n",
       "  'demanda': 'El demandante considera que las normas que acusa violan los artículos 1, 6, 13, 16, 38, 58, 63, 83, 145, 146 y 333 de la Constitución Política.\\n\\nComo introducción a la exposición de los cargos que posteriormente se aducen de manera particular contra cada una de las normas demandadas, el actor expone que siendo que la Ley 675 de 2001 regula relaciones que se circunscriben al ámbito del derecho privado, debe tenerse en cuenta que en ellas prima la autonomía de la voluntad de los propietarios de los bienes privados que conforman una propiedad horizontal. En tal virtud, las disposiciones en ella incluidas “que impiden la autodeterminación de un conglomerado legal de ciudadanos, dificultan la búsqueda de la sana convivencia, la solidaridad, la libertad, el respeto a la dignidad humana, y, sobre todo, chocan con la práctica de la democracia” y, por ello, vulneran diversos preceptos superiores. Adicionalmente, pone de presente que la Ley que acusa no fue concebida para regular entidades con ánimo de lucro, y por esa razón sus disposiciones deben acomodarse a esta realidad. \\n\\nEn relación concreta con las normas que particularmente acusa, el actor expone los siguientes cargos:\\n\\n- Respecto de la expresión que demanda del artículo 3°, que indica que en los edificios o conjuntos de uso comercial, los costos de mercadeo tendrán el carácter de expensa común necesaria, sin perjuicio de las excepciones y restricciones que el reglamento de propiedad horizontal respectivo establezca, el actor indica que esta norma resulta contraria a los artículos 1°, 6° y 16 de la Constitución, pues “los bienes comunes de que son condueños los propietarios de los bienes privados integrantes del conjunto o edificio, no tienen carácter mercantil y la persona jurídica que los administra tampoco”. En efecto, afirma que tal persona jurídica  sólo tiene por objeto administrar dichos bienes comunes, por lo cual es de naturaleza civil, sin ánimo de lucro, como expresamente lo establecen los artículos 32 y 33 de la misma Ley 675 de 2001. \\n\\nAl no tenerse en cuenta lo anterior y “con el hecho de dar a los costos de mercadeo el carácter de expensas necesarias, se está obligando a todos los propietarios de bienes comunes a incurrir en este tipo de gasto, así no lo necesite o no quiera hacerlos”. Esto, en su sentir, desconoce la dignidad humana y resulta arbitrario en cuanto impide a la Asamblea General, donde se expresa la autonomía de la voluntad de los copropietarios, adoptar decisiones acordes con el objeto social de la persona jurídica encargada de administrar los bienes comunes. \\n\\n- En cuanto al artículo 20, que prescribe que “la asamblea general, con el voto favorable de un número plural de propietarios de bienes de dominio privado que representen el setenta por ciento (70%) de los coeficientes de copropiedad de un conjunto o edificio, podrá desafectar la calidad de común de bienes comunes no esenciales, los cuales pasarán a ser del dominio particular de la persona jurídica que surge como efecto de la constitución al régimen de propiedad horizontal”, el actor afirma que esta norma permite una “desmembración de la propiedad horizontal”,  propiedad cuya razón de ser son justamente los bienes comunes, “ingrediente esencial de la vida en comunidad”. Por ello, sostiene que esta disposición atenta contra el artículo 38 superior, que garantiza la libertad de asociación, así como contra el 63 ibidem, según el cual “(l)os bienes de uso público, los parques naturales, las tierras comunales de grupos étnicos, las tierras de resguardo, el patrimonio arqueológico de la Nación y los demás bienes que determine la ley, son inalienables, imprescriptibles e inembargables.” \\n\\nEn cuanto a los artículos 21 y 22 de la Ley 675 que también acusa, sin aducir cargos concretos afirma que, en el evento de resultar inexequible el artículo 20, no tendría objeto mantenerlos dentro del ordenamiento. \\n\\n- En relación con el artículo 45 que contiene normas sobre quórum y mayorías para deliberar y para decidir en las reuniones de las asambleas generales de copropietarios, el demandante afirma que “en forma autoritaria impone la mayoría absoluta para adoptar decisiones que no requieren mayoría calificada, como si esta fuera la única fórmula existente”; es decir, a juicio del demandante la norma contenida en este artículo proscribe otras fórmulas de decisión como lo serían, por ejemplo, las mayorías simples o relativas, útiles para los casos en que existen más de dos propuestas alusivas a un tema. Con este proceder, estima  desconocida la autonomía de la voluntad que prevalece en las relaciones de derecho privado, con lo cual resultan desconocidos los artículos 1°, 6°, 16, 145  y 146 de la Carta. \\n\\n- La acusación contra el artículo 46, que señala los casos en que las  decisiones de la asamblea general requerirán mayoría calificada del setenta por ciento (70%) de los coeficientes de copropiedad que integran el edificio o conjunto, consiste en aducir que este mandato contiene el mismo autoritarismo del artículo 45 anterior. Es decir, el actor encuentra constitucionalmente reprochable que no se permita ninguna otra alternativa para la toma de esta clase de decisiones, lo cual, a su juicio, equivale a un desconocimiento de la dignidad humana, la autonomía de la voluntad de los copropietarios, la libertad y el principio democrático a que aluden los artículos 1°, 6°, 16 y 83 de la Constitución.  \\n\\nEn cuanto a los artículos 56 y 57 que conforman el Capítulo XIII del Título I, íntegramente acusado, los cuales prescriben la obligatoriedad del nombramiento de un revisor fiscal en los conjuntos de uso comercial o mixto, que deberá ser contador público y que entre otros impedimentos se ve cobijado por el de ser propietario o tenedor de bienes privados, el demandante estima que ellos desconocen concretamente los artículos 1°, 2°, 6°, 13, 16, 83, y 333 de la Carta. Para sustentar este cargo afirma que por control interno se entiende “la vigilancia sobre su propio ente ejercida por la misma administración”; siendo que para llevar a cabo dicho control interno no se requiere la intervención de un contador público, estima que para ejercer la revisoría fiscal tampoco debe exigirse. El revisor fiscal, afirma, “es una autoridad vigilante que actúa en representación de los copropietarios cuando no produce resultados positivos el control interno”, ... “de tal manera que si la autoridad de control interno no requiere la calidad de contador público, para ejercitar la misma función el Revisor Fiscal no debe tener calidad distinta a la primera.”\\n\\nEsta exigencia, continua la demanda, se debe a que estos artículos, como toda la ley, reglamentan la propiedad horizontal como si se tratara de una sociedad comercial, desconociendo que su verdadera naturaleza es la de ser una sociedad sin ánimo de lucro. Al proceder así, el legislador se extralimita en sus funciones (por lo cual viola el artículo 6° superior) y se entromete indebidamente en la copropiedad impidiendo a la voluntad de la mayoría adoptar las decisiones acordes con su razón de ser. (Por esta razón desconoce el artículo 16 de la Carta). Además, “al remitir a los copropietarios al control externo, está presumiendo la mala fe e incapacidad de los propietarios para resolver sus asuntos administrativos”, por lo cual vulnera el artículo 83 constitucional. \\n\\nEn cuanto al desconocimiento del artículo 333 de la Constitución, el demandante expone de la siguiente manera el concepto de violación: afirma que el hecho de que el conjunto o edificio tenga inmuebles de uso privado destinados al comercio no modifica el carácter de entidad sin ánimo de lucro que se reconoce a la persona jurídica que administra los bienes comunes. Esta persona jurídica “conforma una organización solidaria que debe funcionar como tal”, propósito que se ve frustrado por las exigencias del legislador.\\n\\nFinalmente, en relación con los artículos 56 y 57 el demandante estima que resultan contrarios al artículo 13 de la Carta, que consagra el derecho a la igualdad, pues impone el requisito de tener revisor fiscal sólo a unas copropiedades -las de uso comercial o mixto- mientras libera a otras de esta obligación “a pesar de tratarse de personas jurídicas del mismo carácter.”\\n\\n-Respecto del numeral 1° del artículo 59 que dentro de las sanciones que por incumplimiento de obligaciones no pecuniarias que pueden ser impuestas a los propietarios, tenedores o terceros, incluye la de la publicación en lugares de amplia circulación de la lista de infractores, con indicación expresa del hecho o acto que origina la sanción, el demandante arguye que si la Constitución protege el derecho a la intimidad, las autoridades no pueden disponer la difusión de las faltas o errores “en que lleguen a incurrir los habitantes de una propiedad horizontal”. A su juicio, “esta disposición en una coacción lacerante sobre quien recaiga”. \\n\\n- Por último, el actor demanda el numeral 2° del artículo 76 de la Ley 675 de 2001, que enumera a la Junta Administradora dentro de las autoridades internas de las Unidades Inmobiliarias Cerradas señalando que, cuando exista, estará compuesta “por los copropietarios o moradores”.  Esta última expresión es la que motiva el reproche del demandante, pues estima que la ley “con la inclusión de los moradores en la Junta Administradora, está desconociendo el derecho exclusivo que asiste a los copropietarios de la Unidad Inmobiliaria Carrada para administrar directamente los bienes comunes de sus propiedades privadas” pues “sin desconocer que la propiedad tiene una función social que implica obligaciones, el legislador no debe introducir condiciones que pongan en riesgo el derecho que, además del Art. 58 de la C.N., el Art. 17 de la declaración de los derechos del hombre considera sagrado e inviolable pues, siendo inherente a la persona, no puede ser afectado por actos contrarios a la razón y a la justicia”. \\n\\n\\n',\n",
       "  'decision': 'En mérito de lo expuesto, la Sala Plena de la Corte Constitucional, oído el concepto del señor procurador general de la Nación y cumplidos los trámites previstos en el Decreto 2067 de 1991, administrando justicia en nombre del pueblo y por mandato de la Constitución,\\n\\n\\nRESUELVE\\n\\nPrimero: Declararse INHIBIDA para llevar a cabo un pronunciamiento de fondo en relación con los artículos 20, 21, 22 y 46 de la Ley 675 de 2001, por ineptitud sustancial de la demanda. \\n\\nSegundo: Declarar EXEQUIBLE la expresión “En los edificios o conjuntos de uso comercial, los costos de mercadeo tendrán el carácter de expensa común necesaria, sin perjuicio de las excepciones y restricciones que el reglamento de propiedad horizontal respectivo establezca”contenida en el artículo 3° de la Ley 675 de 2001 y los artículos 56, 57, 59 numeral primero  y 76 numeral segundo de la misma Ley, pero solamente por los cargos analizados en la presente decisión. Salvo la palabra “titulado” contenida en el artículo 56 de la Ley 675 de 2001, respecto de la cual se ordena   ESTARSE A LO RESUELTO en la Sentencia C-670 de 2002.\\n  \\nTercero. Declarar EXEQUIBLE el artículo 45 de la Ley 675 de 2001, en los términos del fundamento jurídico número 14 de la parte considerativa de la presente Sentencia y solamente en relación con los cargos estudiados en la presente decisión; y declararse INHIBIDA respecto de las acusaciones formuladas contra esta misma disposición por violación del artículo 83 de la Constitución Política y de las normas constitucionales sobre quórum y mayorías deliberatoria y decisoria en la cámaras legislativas. \\n'},\n",
       " {'sentencia_id': 782,\n",
       "  'sentencia_name': 'Sentencia C-782/04',\n",
       "  'demanda': 'El actor considera que las normas demandadas violan los artículos 2°, 13, 51 Y 58 de la Constitución. \\n\\nEl demandante comienza por precisar que a primera vista las normas acusadas respetan el principio de igualdad, al establecer que un inmueble que hace parte de un conjunto cerrado residencial o mixto sujeto al régimen de propiedad horizontal debe contribuir a los gastos comunes de acuerdo al coeficiente de propiedad, que es calculado con base en el área de cada inmueble, pues parece razonable y proporcionado que aquel inmueble que tenga mayor área deba pagar una mayor cuota de administración. Sin embargo, según su parecer, un examen más atento muestra que la anterior impresión es equivocada, ya que las normas acusadas desconocen el principio de igualdad. La razón, explica el actor, es que las cuotas de administración se dirigen a cubrir los gastos que generan las áreas comunes en personal, aseo, y por otros motivos, como papelería e imprevistos. Y por ello, argumenta el demandante, las normas acusadas desconocen el principio de igualdad por cuanto \"todos los residentes del conjunto sin importar el área de su inmueble gozan o disfrutan en igual proporción de los servicios comunes y de administración que se pagan con las expensas comunes a que están obligados .” según su criterio, los inmuebles de mayor existencia “no le causan necesariamente gastos adicionales al conjunto residencial en que se encuentran”, por lo que las normas acusadas son discriminatorias, ya que “la única razón justa para cobrar  una mayor expensa a un inmueble de mayor área sería el hecho de que dichos inmuebles le generarán al conjunto mayores costos.” (Las subrayas son del texto original)\\n\\nDebido a lo anterior, el actor considera que las disposiciones acusadas implican que los propietarios de los inmuebles de mayor área deben subsidiar a los propietarios de los inmuebles de menor extensión, lo cual es injustificado porque todos reciben en igual proporción los mismos servicios comunes y de administración. Según su parecer, la regulación compatible con el principio de igualdad es que la ley señale que las cuotas por administración sean idénticas para todos los inmuebles, o eventualmente proporcionadas al gasto que cada inmueble ocasione a la administración, en caso de que uno o varios inmuebles le causen mayor consumo de servicios comunes y de administración a un conjunto residencial o mixto. Por el contrario, considera el demandante, la regulación acusada no sólo afecta el principio de igualdad sino que, además, atenta contra el derecho a la propiedad, pues los dueños de inmueble s de gran extensión deben pagar cuotas de administración excesivas, que desvalorizan la propiedad, pues dificultan su venta o arrendamiento\\n\\nPor último, el demandante recuerda que la sentencia C-522 de 2002 mencionó que el coeficiente de copropiedad era el factor para determinar las expensas comunes o cuota de administración de un bien en propiedad horizontal, pero no existe cosa juzgada, pues dicha providencia no entró a \"estudiar la constitucionalidad o inconstitucionalidad de la norma que lo establece( articulo 25 numeral 3), pues esta no había sido demandada, partiéndose del hecho de su presunción de constitucionalidad.\\n \\n\\nIV- ',\n",
       "  'decision': 'En mérito de lo expuesto, la Sala Plena de la Corte Constitucional de la República de Colombia, administrando justicia en nombre del pueblo y por mandato de la Constitución,\\n\\n\\nRESUELVE\\n\\nDeclarar EXEQUIBLES, pero únicamente por los cargos analizados, el artículo 25 numeral 3° de la Ley 675 de 2001, así como el aparte acusado del artículo 3° de esa misma ley, el cual literalmente dice: \"la proporción con que cada uno contribuirá en las expensas comunes del edificio o conjunto, sin perjuicio de las que se determinen por módulos de contribución, en edificios o conjuntos de usó comercial o mixto. \"\\n'},\n",
       " {'sentencia_id': 509,\n",
       "  'sentencia_name': 'Sentencia SU.509/01',\n",
       "  'demanda': 'Reglas jurisprudenciales cuando hay suspensión de algunos servicios de administración en conjuntos de vivienda.',\n",
       "  'decision': 'En mérito de lo expuesto, la Sala Plena de la Corte Constitucional, administrando justicia en nombre del pueblo y por mandato de la Constitución\\n\\n\\nRESUELVE:\\n\\n\\n\\nPRIMERO. REVOCAR PARCIALMENTE la sentencia proferida por el Juez Segundo Civil del Circuito de Bucaramanga, en la tutela de Gonzalo Mejía Abello y en su lugar CONCEDER PARCIALMENTE la tutela por violación a los derechos fundamentales indicados en la parte motiva y ORDENAR que en el término de 48 horas se le permita al solicitante y su familia el libre acceso al conjunto, sin obstáculos ni demoras al llegar al garaje; y que se restituya el servicio de citófono.\\n\\nSEGUNDO. REVOCAR PARCIALMENTE la sentencia de la Sala Civil del Tribunal Superior de Bogotá, en la tutela de alba Luz Betancourt y en su lugar CONCEDER PARCIALMENTE \\tla tutela por violación a los derechos fundamentales indicados en la parte motiva y ORDENAR que en el término de 48 horas se le permita la solicitante y su familia el libre acceso al conjunto, sin obstáculos ni demoras al llegar al garaje; y se restituya el servicio de citófono.\\n\\nTERCERO. CONFIRMAR el fallo del Juzgado Primero Promiscuo Municipal de Chia que no concedió la tutela instaurada por Lucia Jiménez Troncoso.\\n\\nCUARTO. REVOCAR PARCIALMENTE la sentencia de la Sala Penal del Tribunal de Manízales, en la tutela de Juán Carlos Zuluaga y su familia y en su lugar CONCEDER PARCIALMENTE la tutela por violación a los derechos fundamentales indicados en la parte motiva y ORDENAR que en el término de 48 horas se le permita al solicitante y su familia el libre acceso al conjunto, sin obstáculos ni demoras al llegar al garaje.\\n\\nQUINTO. REVOCAR PARCIALMENTE la sentencia del Juez Primero Civil del Circuito de Girardot en la tutela de Heladio Mosquera Herrera y en su lugar CONCEDER PARCIALMENTE la tutela por violación a los derechos fundamentales indicados en la parte motiva y ORDENAR que en el término de 48 horas se le permita al solicitante y su familia el libre acceso al conjunto, sin obstáculos ni demoras al llegar al garaje. \\n\\nSEXTO. LÍBRESE por Secretaría las comunicaciones de que trata el artículo 36 del Decreto 2591 de 1991, para los efectos allí contemplados.\\n\\n'}]"
      ]
     },
     "execution_count": 48,
     "metadata": {},
     "output_type": "execute_result"
    }
   ],
   "source": [
    "lista_sentencias.append(nodo_dict)\n",
    "lista_sentencias"
   ]
  },
  {
   "cell_type": "markdown",
   "metadata": {},
   "source": [
    "### Tutelas    -03"
   ]
  },
  {
   "cell_type": "markdown",
   "metadata": {},
   "source": [
    "#### t_315866"
   ]
  },
  {
   "cell_type": "code",
   "execution_count": 49,
   "metadata": {},
   "outputs": [],
   "source": [
    "#Patrones tutelas\n",
    "patron_t_315866 = re.compile(r'T-315866\\n\\s*(.*?)(?=-Resolución )', re.DOTALL)\n",
    "ts_1 = re.compile(r'(\\nT-315866:\\s*el\\s*fallo.*?)(?=\\nT-315884:)', re.DOTALL)"
   ]
  },
  {
   "cell_type": "code",
   "execution_count": 50,
   "metadata": {},
   "outputs": [],
   "source": [
    "t_1_hechos = re.search(patron_t_315866, s_ant.group(1))\n",
    "t_1_resolucion = re.search(ts_1, su509)"
   ]
  },
  {
   "cell_type": "markdown",
   "metadata": {},
   "source": [
    "#### t_315884"
   ]
  },
  {
   "cell_type": "code",
   "execution_count": 51,
   "metadata": {},
   "outputs": [],
   "source": [
    "patron_t_315884 = re.compile(r'T-315884\\n\\s*(.*?)(?=\\n2.3. Pruebas)', re.DOTALL)\n",
    "ts_2 = re.compile(r'(\\nT-315884:\\s*el\\s*fallo.*?)(?=\\nT-\\s*362549)', re.DOTALL)"
   ]
  },
  {
   "cell_type": "code",
   "execution_count": 52,
   "metadata": {},
   "outputs": [],
   "source": [
    "t_2_hechos = re.search(patron_t_315884, s_ant.group(1))\n",
    "t_2_resolucion = re.search(ts_2, su509)"
   ]
  },
  {
   "cell_type": "markdown",
   "metadata": {},
   "source": [
    "#### t_362549"
   ]
  },
  {
   "cell_type": "code",
   "execution_count": 53,
   "metadata": {},
   "outputs": [],
   "source": [
    "patron_t_362549 = re.compile(r'T-362549\\n\\s*(.*?)(?=\\n3.3. Pruebas)', re.DOTALL)\n",
    "ts_3 = re.compile(r'(\\nT-\\s*362549:\\s*el\\s*fallo.*?)(?=\\nT-\\s*363900)', re.DOTALL)"
   ]
  },
  {
   "cell_type": "code",
   "execution_count": 54,
   "metadata": {},
   "outputs": [],
   "source": [
    "t_3_hechos = re.search(patron_t_362549, s_ant.group(1))\n",
    "t_3_resolucion = re.search(ts_3, su509)"
   ]
  },
  {
   "cell_type": "markdown",
   "metadata": {},
   "source": [
    "#### T_363900\n"
   ]
  },
  {
   "cell_type": "code",
   "execution_count": 55,
   "metadata": {},
   "outputs": [],
   "source": [
    "patron_t_363900= re.compile(r'T-363900\\n\\s*(.*?)(?=\\n4.3. Pruebas)', re.DOTALL)\n",
    "ts_4 = re.compile(r'(\\nT-\\s*363900:\\s*decidió\\s*en.*?)(?=\\nT-372830)', re.DOTALL)"
   ]
  },
  {
   "cell_type": "code",
   "execution_count": 56,
   "metadata": {},
   "outputs": [],
   "source": [
    "t_4_hechos = re.search(patron_t_363900, s_ant.group(1))\n",
    "t_4_resolucion = re.search(ts_4, su509)"
   ]
  },
  {
   "cell_type": "markdown",
   "metadata": {},
   "source": [
    "#### t_372830"
   ]
  },
  {
   "cell_type": "code",
   "execution_count": 57,
   "metadata": {},
   "outputs": [],
   "source": [
    "patron_t_372830= re.compile(r'T-372830\\n\\s*(.*?)(?=\\n5.3. Pruebas)', re.DOTALL)\n",
    "ts_5 = re.compile(r'(\\nT-372830:\\s*el\\s*fallo.*?)(?=\\nCONSIDERACIONES)', re.DOTALL)"
   ]
  },
  {
   "cell_type": "code",
   "execution_count": 58,
   "metadata": {},
   "outputs": [],
   "source": [
    "t_5_hechos = re.search(patron_t_372830, s_ant.group(1))\n",
    "t_5_resolucion = re.search(ts_5, su509)"
   ]
  },
  {
   "cell_type": "code",
   "execution_count": 59,
   "metadata": {},
   "outputs": [],
   "source": [
    "tutelas_list = []\n",
    "tutelas_list = [{\n",
    "    \"tutela_id\":315866,\n",
    "    \"tutela_name\":'T-315866',\n",
    "    \"demanda\":t_1_hechos.group(1),\n",
    "    \"decision\":t_1_resolucion.group(1)\n",
    "    },\n",
    "{\n",
    "    \"tutela_id\":315884,\n",
    "    \"tutela_name\":'T-315884',\n",
    "    \"demanda\":t_2_hechos.group(1),\n",
    "    \"decision\":t_2_resolucion.group(1)\n",
    "    },\n",
    "{\n",
    "    \"tutela_id\":362549,\n",
    "    \"tutela_name\":'T-362549',\n",
    "    \"demanda\":t_3_hechos.group(1),\n",
    "    \"decision\":t_3_resolucion.group(1)\n",
    "    },\n",
    "{\n",
    "    \"tutela_id\":363900,\n",
    "    \"tutela_name\":'T-363900',\n",
    "    \"demanda\":t_4_hechos.group(1),\n",
    "    \"decision\":t_4_resolucion.group(1)\n",
    "    },\n",
    "{\n",
    "    \"tutela_id\":372830,\n",
    "    \"tutela_name\":'T-372830',\n",
    "    \"demanda\":t_5_hechos.group(1),\n",
    "    \"decision\":t_5_resolucion.group(1)\n",
    "    }\n",
    "]"
   ]
  },
  {
   "cell_type": "markdown",
   "metadata": {},
   "source": [
    "### Relaciones"
   ]
  },
  {
   "cell_type": "code",
   "execution_count": 60,
   "metadata": {},
   "outputs": [],
   "source": [
    "# realaciones de todas de las sentencias con los articulos\n",
    "lista_relaciones = []"
   ]
  },
  {
   "cell_type": "code",
   "execution_count": 61,
   "metadata": {},
   "outputs": [],
   "source": [
    "def relacion_articulos_sentencia(articulos, num):\n",
    "    articulos_dict = {}\n",
    "    for a,n in articulos:\n",
    "        articulos_dict = {\n",
    "            \"sentencia_id\": num,\n",
    "            \"articulo_id\": n,\n",
    "            \"demanda\":\"inconstitucional\"\n",
    "        }\n",
    "        lista_relaciones.append(articulos_dict)\n",
    "    \n",
    "    return lista_relaciones    "
   ]
  },
  {
   "cell_type": "code",
   "execution_count": 62,
   "metadata": {},
   "outputs": [
    {
     "data": {
      "text/plain": [
       "[{'sentencia_id': 318, 'articulo_id': '1', 'demanda': 'inconstitucional'},\n",
       " {'sentencia_id': 318, 'articulo_id': '3', 'demanda': 'inconstitucional'},\n",
       " {'sentencia_id': 318, 'articulo_id': '32', 'demanda': 'inconstitucional'},\n",
       " {'sentencia_id': 318, 'articulo_id': '37', 'demanda': 'inconstitucional'},\n",
       " {'sentencia_id': 318, 'articulo_id': '39', 'demanda': 'inconstitucional'},\n",
       " {'sentencia_id': 318, 'articulo_id': '42', 'demanda': 'inconstitucional'},\n",
       " {'sentencia_id': 318, 'articulo_id': '43', 'demanda': 'inconstitucional'},\n",
       " {'sentencia_id': 318, 'articulo_id': '44', 'demanda': 'inconstitucional'},\n",
       " {'sentencia_id': 318, 'articulo_id': '45', 'demanda': 'inconstitucional'},\n",
       " {'sentencia_id': 318, 'articulo_id': '47', 'demanda': 'inconstitucional'},\n",
       " {'sentencia_id': 318, 'articulo_id': '49', 'demanda': 'inconstitucional'},\n",
       " {'sentencia_id': 318, 'articulo_id': '50', 'demanda': 'inconstitucional'},\n",
       " {'sentencia_id': 318, 'articulo_id': '51', 'demanda': 'inconstitucional'},\n",
       " {'sentencia_id': 318, 'articulo_id': '53', 'demanda': 'inconstitucional'},\n",
       " {'sentencia_id': 318, 'articulo_id': '58', 'demanda': 'inconstitucional'},\n",
       " {'sentencia_id': 318, 'articulo_id': '59', 'demanda': 'inconstitucional'},\n",
       " {'sentencia_id': 318, 'articulo_id': '62', 'demanda': 'inconstitucional'},\n",
       " {'sentencia_id': 738, 'articulo_id': '3', 'demanda': 'inconstitucional'},\n",
       " {'sentencia_id': 738, 'articulo_id': '20', 'demanda': 'inconstitucional'},\n",
       " {'sentencia_id': 738, 'articulo_id': '21', 'demanda': 'inconstitucional'},\n",
       " {'sentencia_id': 738, 'articulo_id': '22', 'demanda': 'inconstitucional'},\n",
       " {'sentencia_id': 738, 'articulo_id': '45', 'demanda': 'inconstitucional'},\n",
       " {'sentencia_id': 738, 'articulo_id': '46', 'demanda': 'inconstitucional'},\n",
       " {'sentencia_id': 738, 'articulo_id': '56', 'demanda': 'inconstitucional'},\n",
       " {'sentencia_id': 738, 'articulo_id': '57', 'demanda': 'inconstitucional'},\n",
       " {'sentencia_id': 738, 'articulo_id': '59', 'demanda': 'inconstitucional'},\n",
       " {'sentencia_id': 738, 'articulo_id': '76', 'demanda': 'inconstitucional'},\n",
       " {'sentencia_id': 782, 'articulo_id': '3', 'demanda': 'inconstitucional'},\n",
       " {'sentencia_id': 782, 'articulo_id': '25', 'demanda': 'inconstitucional'}]"
      ]
     },
     "execution_count": 62,
     "metadata": {},
     "output_type": "execute_result"
    }
   ],
   "source": [
    "relacion_articulos_sentencia(articulos_318, 318)\n",
    "relacion_articulos_sentencia(articulos_738, 738)\n",
    "relacion_articulos_sentencia(articulos_782, 782)"
   ]
  },
  {
   "cell_type": "markdown",
   "metadata": {},
   "source": [
    "## Save to csv"
   ]
  },
  {
   "cell_type": "code",
   "execution_count": 63,
   "metadata": {},
   "outputs": [],
   "source": [
    "def save_to_csv(lista_diccionarios, nombre_archivo):\n",
    "    # Obtener las claves del primer diccionario como encabezados\n",
    "    keys = lista_diccionarios[0].keys()\n",
    "    \n",
    "    # Abrir el archivo en modo de escritura\n",
    "    with open(nombre_archivo, 'w', newline='', encoding='utf-8') as output_file:\n",
    "        dict_writer = csv.DictWriter(output_file, fieldnames=keys)\n",
    "        dict_writer.writeheader()  # Escribir la cabecera del CSV\n",
    "        dict_writer.writerows(lista_diccionarios)  # Escribir los datos del diccionario\n",
    "\n",
    "    print(f\"Archivo guardado como {nombre_archivo}\")"
   ]
  },
  {
   "cell_type": "code",
   "execution_count": 64,
   "metadata": {},
   "outputs": [
    {
     "name": "stdout",
     "output_type": "stream",
     "text": [
      "Archivo guardado como sentencias.csv\n"
     ]
    }
   ],
   "source": [
    "save_to_csv(lista_sentencias, 'sentencias.csv')"
   ]
  },
  {
   "cell_type": "code",
   "execution_count": 65,
   "metadata": {},
   "outputs": [
    {
     "name": "stdout",
     "output_type": "stream",
     "text": [
      "Archivo guardado como tutelas.csv\n"
     ]
    }
   ],
   "source": [
    "save_to_csv(tutelas_list, 'tutelas.csv')"
   ]
  },
  {
   "cell_type": "code",
   "execution_count": 66,
   "metadata": {},
   "outputs": [
    {
     "name": "stdout",
     "output_type": "stream",
     "text": [
      "Archivo guardado como relaciones_sentencias_articulos.csv\n"
     ]
    }
   ],
   "source": [
    "save_to_csv(lista_relaciones, 'relaciones_sentencias_articulos.csv')"
   ]
  }
 ],
 "metadata": {
  "kernelspec": {
   "display_name": ".venv",
   "language": "python",
   "name": "python3"
  },
  "language_info": {
   "codemirror_mode": {
    "name": "ipython",
    "version": 3
   },
   "file_extension": ".py",
   "mimetype": "text/x-python",
   "name": "python",
   "nbconvert_exporter": "python",
   "pygments_lexer": "ipython3",
   "version": "3.11.5"
  }
 },
 "nbformat": 4,
 "nbformat_minor": 2
}
