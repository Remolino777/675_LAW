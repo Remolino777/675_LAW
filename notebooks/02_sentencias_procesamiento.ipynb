{
 "cells": [
  {
   "cell_type": "code",
   "execution_count": 1,
   "metadata": {},
   "outputs": [],
   "source": [
    "import re\n",
    "from striprtf.striprtf import rtf_to_text"
   ]
  },
  {
   "cell_type": "code",
   "execution_count": 79,
   "metadata": {},
   "outputs": [],
   "source": [
    "import csv"
   ]
  },
  {
   "cell_type": "markdown",
   "metadata": {},
   "source": [
    "## Load files"
   ]
  },
  {
   "cell_type": "code",
   "execution_count": 2,
   "metadata": {},
   "outputs": [],
   "source": [
    "def leer_archivo_rtf(ruta_archivo):\n",
    "    try:\n",
    "        with open(ruta_archivo, 'r', encoding='utf-8') as archivo:\n",
    "            contenido_rtf = archivo.read()\n",
    "            contenido_texto = rtf_to_text(contenido_rtf)\n",
    "            return contenido_texto\n",
    "    except Exception as e:\n",
    "        print(f\"Error al leer el archivo .rtf: {e}\")\n",
    "        return None"
   ]
  },
  {
   "cell_type": "code",
   "execution_count": 3,
   "metadata": {},
   "outputs": [],
   "source": [
    "path = r'D:\\0_Respaldo\\000_KaggleX\\Projects\\Rag-Ley675\\675_LAW\\data\\raw\\Sentencias\\C-318-02.rtf'"
   ]
  },
  {
   "cell_type": "code",
   "execution_count": 4,
   "metadata": {},
   "outputs": [],
   "source": [
    "c_318 = leer_archivo_rtf(path)"
   ]
  },
  {
   "cell_type": "code",
   "execution_count": 6,
   "metadata": {},
   "outputs": [
    {
     "name": "stdout",
     "output_type": "stream",
     "text": [
      "Sentencia C-318/02\n",
      "\n",
      "DEMANDA DE INCONSTITUCIONALIDAD-Generalidad del cargo e interpretación personal de normas/DEMANDA DE INCONSTITUCIONALIDAD-Examen g\n"
     ]
    }
   ],
   "source": [
    "print(c_318[:150])"
   ]
  },
  {
   "cell_type": "markdown",
   "metadata": {},
   "source": [
    "## Parce sentences"
   ]
  },
  {
   "cell_type": "markdown",
   "metadata": {},
   "source": [
    "### Sentence C-318"
   ]
  },
  {
   "cell_type": "code",
   "execution_count": 5,
   "metadata": {},
   "outputs": [],
   "source": [
    "#Creo la lista de nodos\n",
    "lista_sentencias = []"
   ]
  },
  {
   "cell_type": "markdown",
   "metadata": {},
   "source": [
    "#### Prueba formato sentencia"
   ]
  },
  {
   "cell_type": "code",
   "execution_count": 6,
   "metadata": {},
   "outputs": [],
   "source": [
    "patron_sentencia_titulo = r\"(Sentencia\\s\\w-\\d{3}/\\d{2})\"\n",
    "patron_articulos_demandados = re.compile(r'II\\.\\s*NORMAS\\s*DEMANDADAS\\.\\s*(.*?)(?=\\nIII\\. LA DEMANDA)', re.DOTALL)\n",
    "patron_demanda = re.compile(r'(II\\.\\s*LA DEMANDA)\\.\\s*(.*?)(?=\\nIV\\. INTERVENCIÓN)', re.DOTALL)\n",
    "patron_decision = re.compile(r'(VII\\.\\s*DECISION)\\.\\s*(.*?)(?=\\nNotifíquese, comuníquese, publíquese,)', re.DOTALL)\n",
    "patron_articulos = re.compile(r'(Artículo\\s)(\\d{1,2})', re.DOTALL)\n"
   ]
  },
  {
   "cell_type": "code",
   "execution_count": 7,
   "metadata": {},
   "outputs": [],
   "source": [
    "sentencia_n = re.search(patron_sentencia_titulo, c_318)"
   ]
  },
  {
   "cell_type": "code",
   "execution_count": 8,
   "metadata": {},
   "outputs": [
    {
     "data": {
      "text/plain": [
       "'Sentencia C-318/02'"
      ]
     },
     "execution_count": 8,
     "metadata": {},
     "output_type": "execute_result"
    }
   ],
   "source": [
    "sentencia_n.group(1)"
   ]
  },
  {
   "cell_type": "code",
   "execution_count": 9,
   "metadata": {},
   "outputs": [],
   "source": [
    "s_demanda = re.search(patron_demanda, c_318)\n",
    "s_decision = re.search(patron_decision, c_318)\n",
    "a_demandados = re.search(patron_articulos_demandados, c_318)\n",
    "articulos = re.findall(patron_articulos, a_demandados.group(1))"
   ]
  },
  {
   "cell_type": "code",
   "execution_count": 10,
   "metadata": {},
   "outputs": [],
   "source": [
    "# realaciones de todas de las sentencias con los articulos\n",
    "lista_relaciones = []"
   ]
  },
  {
   "cell_type": "code",
   "execution_count": 11,
   "metadata": {},
   "outputs": [],
   "source": [
    "def relacion_articulos_sentencia(texto, num):\n",
    "    articulos_dict = {}\n",
    "    for a,n in articulos:\n",
    "        articulos_dict = {\n",
    "            \"sentencia_id\": num,\n",
    "            \"articulo_id\": n,\n",
    "            \"demanda\":\"inconstitucional\"\n",
    "        }\n",
    "        lista_relaciones.append(articulos_dict)\n",
    "    \n",
    "    return lista_relaciones    "
   ]
  },
  {
   "cell_type": "code",
   "execution_count": 12,
   "metadata": {},
   "outputs": [],
   "source": [
    "r_318 = relacion_articulos_sentencia(articulos, 318)"
   ]
  },
  {
   "cell_type": "code",
   "execution_count": 13,
   "metadata": {},
   "outputs": [
    {
     "data": {
      "text/plain": [
       "[{'sentencia_id': 318, 'articulo_id': '1', 'demanda': 'inconstitucional'},\n",
       " {'sentencia_id': 318, 'articulo_id': '3', 'demanda': 'inconstitucional'},\n",
       " {'sentencia_id': 318, 'articulo_id': '32', 'demanda': 'inconstitucional'},\n",
       " {'sentencia_id': 318, 'articulo_id': '37', 'demanda': 'inconstitucional'},\n",
       " {'sentencia_id': 318, 'articulo_id': '39', 'demanda': 'inconstitucional'},\n",
       " {'sentencia_id': 318, 'articulo_id': '42', 'demanda': 'inconstitucional'},\n",
       " {'sentencia_id': 318, 'articulo_id': '43', 'demanda': 'inconstitucional'},\n",
       " {'sentencia_id': 318, 'articulo_id': '44', 'demanda': 'inconstitucional'},\n",
       " {'sentencia_id': 318, 'articulo_id': '45', 'demanda': 'inconstitucional'},\n",
       " {'sentencia_id': 318, 'articulo_id': '47', 'demanda': 'inconstitucional'},\n",
       " {'sentencia_id': 318, 'articulo_id': '49', 'demanda': 'inconstitucional'},\n",
       " {'sentencia_id': 318, 'articulo_id': '50', 'demanda': 'inconstitucional'},\n",
       " {'sentencia_id': 318, 'articulo_id': '51', 'demanda': 'inconstitucional'},\n",
       " {'sentencia_id': 318, 'articulo_id': '53', 'demanda': 'inconstitucional'},\n",
       " {'sentencia_id': 318, 'articulo_id': '58', 'demanda': 'inconstitucional'},\n",
       " {'sentencia_id': 318, 'articulo_id': '59', 'demanda': 'inconstitucional'},\n",
       " {'sentencia_id': 318, 'articulo_id': '62', 'demanda': 'inconstitucional'}]"
      ]
     },
     "execution_count": 13,
     "metadata": {},
     "output_type": "execute_result"
    }
   ],
   "source": [
    "r_318"
   ]
  },
  {
   "cell_type": "code",
   "execution_count": 14,
   "metadata": {},
   "outputs": [],
   "source": [
    "# Nodo\n",
    "nodo_dict = {}\n",
    "nodo_dict = {\n",
    "    \"sentencia_id\":318,\n",
    "    \"sentencia_name\":sentencia_n.group(1),\n",
    "    \"demanda\": s_demanda.group(2),\n",
    "    \"decision\":s_decision.group(2)\n",
    "    }\n"
   ]
  },
  {
   "cell_type": "code",
   "execution_count": 15,
   "metadata": {},
   "outputs": [],
   "source": [
    "lista_sentencias.append(nodo_dict)"
   ]
  },
  {
   "cell_type": "code",
   "execution_count": 16,
   "metadata": {},
   "outputs": [
    {
     "data": {
      "text/plain": [
       "[{'sentencia_id': 318,\n",
       "  'sentencia_name': 'Sentencia C-318/02',\n",
       "  'demanda': 'Considera el actor que las normas demandadas violan el preámbulo de la Constitución y los artículos 1, 2, 5, 13, 14, 23, 29, 40, 58, 95, 103, 112, 158 y 229 de la Carta. El concepto de violación se tratará de resumir así :\\n\\nLa Ley 675 de 2001, desde su inicio, desconoce la realidad del país, en el sentido de que al lado de los derechos de los propietarios de las unidades privadas en los edificios o conjuntos, concurren los derechos de otras personas, que son moradores de tales unidades, en calidad de poseedores, tenedores, arrendatarios, cuyos derechos también deben ser respetados. \\n\\nPor desconocer esta realidad, la Ley está estructurada, desde su objeto mismo, otorgando a los propietarios un poder “de dominación antidemocrático sobre los demás miembros de la comunidad social”. Señala, también, que “De manera absolutamente abusiva y arbitraria, y por ende ilegal, la ley 675 estatuye a favor de los propietarios de unidades privadas todo un amplio catálogo de derechos y tan solo consagra respecto de los tenedores obligaciones y sanciones.”\\n\\nEl artículo 1º acusado, no obstante anunciar que la finalidad del régimen de propiedad horizontal es garantizar la seguridad y la convivencia pacífica en los inmuebles sometidos a ella, y la función social de la sociedad, esta finalidad no se refleja, ya que sólo regula lo que atañe a los propietarios. \\n\\nLa Ley 675 ataca la estructura del ordenamiento jurídico civil, ya que se impone sobre las instituciones legales como la posesión y tenencia reguladas por los artículos 762 a 781 del Código Civil. De esta forma se produce la violación del artículo 158 de la Constitución, por violación a la unidad de materia. \\n\\nSeñala que las partes subrayadas de los artículos acusados impiden la regulación de la convivencia pacifica en los edificios y conjuntos a quienes no sean propietarios, lo que crea una verdadera injusticia y desigualdad. \\n\\nEsto se refleja, en especial, en la forma como está concebida la propiedad horizontal. En efecto, el artículo 32 señala que la propiedad horizontal es una persona jurídica conformada únicamente por los dueños de dominio particular. Es decir, deja expresamente por fuera a quienes no tienen el carácter de propietarios. \\n\\nSin embargo, el artículo 37, inciso 3, establece que las decisiones de la asamblea general son de obligatorio cumplimiento no sólo para los propietarios del edificio, sino para todos sus usuarios y ocupantes. \\n\\nPara el actor, extender las decisiones de la asamblea general a quienes no son propietarios, viola el artículo 2 de la Constitución, en cuanto expresa que en las decisiones que afectan a todos, deben participar todos. Además, se  desconoce el artículo 14 de la Carta, pues se niega el derecho a tener  personalidad jurídica a quienes no son propietarios. Los tenedores y poseedores, tampoco tienen derecho a elegir y ser elegido en los órganos de representación de la copropiedad. Ni tienen acción ante la Alcaldía. \\n\\nLa violación del debido proceso y del acceso a la administración de justicia, la explica el demandante así :\\n\\n“El artículo 37 de la Ley 675, pregona que las decisiones de la asamblea general son obligatorias para los propietarios, usuarios y ocupantes del edificio o conjunto. El artículo 59 ibídem, permite sancionar las conductas de propietarios, tenedores o terceros. \\n\\n“Sin embargo, el artículo 49 de la ley en comento, haciendo coro con el artículo 62 de la misma, solamente permiten que el administrador, el revisor fiscal y los propietarios de bienes privados, tengan derecho de acción para impugnar las decisiones corrientes de la asamblea general; y solamente se permite que el propietario sancionado impugne la decisión sancionatoria. \\n\\n“Tamaño adefesio significa, que pese a que el reglamento y las decisiones de la asamblea cobijan por igual a propietarios, ocupantes y usuarios, solamente los primeros pueden ejercitar el derecho de acción para demandar las decisiones que les afecten. Ello, desconoce el principio de igualdad, niega el derecho de acceso a la administración de justicia de miembros del colectivo distintos a los propietarios, y consagra un orden injusto, contrario al orden justo que implanta la Carta.\\n\\n“El derecho fundamental al debido proceso, que incluye el de contradicción y defensa experimenta un desconocimiento absoluto a través de las normas acusadas de la ley cuando se contempla que solamente el propietario de bien privado que ha sido sancionado puede impugnar las sanciones por incumplimiento de obligaciones no pecuniarias.”\\n',\n",
       "  'decision': 'En mérito de lo expuesto, la Corte Constitucional de la República de Colombia, administrando justicia en nombre del pueblo y por mandato de la Constitución,\\n\\nRESUELVE :\\n\\nPrimero : Declarar exequibles por los cargos formulados, lo acusado de los artículos 1, 3, parcial, 32, parcial, 37, parcial, 39, parcial, 42, parcial, 43, parcial, 44, parcial, 45, parcial, 47, parcial, 49, parcial, 50, parcial, 51, parcial, 53, parcial, 58, parcial, 59, parcial, y 62, parcial, de la Ley 675 de 2001, “Por medio de la cual se expide el régimen de propiedad horizontal.”, bajo el entendido de que los moradores no propietarios de inmuebles sometidos al régimen de propiedad horizontal podrán ejercer ante las autoridades internas del mismo el derecho de petición, así como el de ser oídos en las decisiones que puedan afectarlos, conforme a lo expuesto en la parte motiva de esta sentencia.\\n\\nSegundo : Igualmente, se declara la exequibilidad de las normas acusadas bajo el entendido de que, cuando se trate de la imposición de sanciones por parte de las autoridades internas del inmueble sometido al régimen de propiedad horizontal, habrá de respetarse y garantizarse a los no propietarios el ejercicio del derecho de defensa. \\n\\n'}]"
      ]
     },
     "execution_count": 16,
     "metadata": {},
     "output_type": "execute_result"
    }
   ],
   "source": [
    "lista_sentencias"
   ]
  },
  {
   "cell_type": "markdown",
   "metadata": {},
   "source": [
    "### Read C-738-02 file"
   ]
  },
  {
   "cell_type": "code",
   "execution_count": 18,
   "metadata": {},
   "outputs": [],
   "source": [
    "path = r'D:\\0_Respaldo\\000_KaggleX\\Projects\\Rag-Ley675\\675_LAW\\data\\raw\\Sentencias\\C-738-02.rtf'"
   ]
  },
  {
   "cell_type": "code",
   "execution_count": 46,
   "metadata": {},
   "outputs": [],
   "source": [
    "c_738 = leer_archivo_rtf(path)"
   ]
  },
  {
   "cell_type": "code",
   "execution_count": 54,
   "metadata": {},
   "outputs": [
    {
     "name": "stdout",
     "output_type": "stream",
     "text": [
      "Sentencia C-738/02\n",
      "\n",
      "REGIMEN DE PROPIEDAD HORIZONTA\n"
     ]
    }
   ],
   "source": [
    "print(c_738[:50])"
   ]
  },
  {
   "cell_type": "code",
   "execution_count": 93,
   "metadata": {},
   "outputs": [],
   "source": [
    "#Patron\n",
    "patron_sentencia_titulo = r\"(Sentencia\\s\\w-\\d{3}/\\d{2})\"\n",
    "patron_articulos_demandados = re.compile(r'EL\\s*TEXTO\\s*DE\\s*LAS\\s*NORMAS\\s*ACUSADAS\\s*([\\s\\S]*?)(?=\\nLA\\s*DEMANDA)', re.DOTALL)\n",
    "patron_demanda = re.compile(r'(LA\\s*DEMANDA\\n)\\s*(.*?)(?=INTERVENCIÓN)', re.DOTALL)\n",
    "patron_decision = re.compile(r'(VII\\.\\s*DECISION)\\.\\s*(.*?)(?=\\nNotifíquese, comuníquese, publíquese,)', re.DOTALL)\n",
    "patron_articulos = re.compile(r'(Artículo\\s)(\\d{1,2})', re.DOTALL)"
   ]
  },
  {
   "cell_type": "code",
   "execution_count": 94,
   "metadata": {},
   "outputs": [],
   "source": [
    "s_demanda = re.search(patron_demanda, c_738)"
   ]
  },
  {
   "cell_type": "code",
   "execution_count": 95,
   "metadata": {},
   "outputs": [],
   "source": [
    "s_demanda"
   ]
  },
  {
   "cell_type": "code",
   "execution_count": 77,
   "metadata": {},
   "outputs": [],
   "source": [
    "s_demanda = re.search(patron_demanda, c_738)\n",
    "s_decision = re.search(patron_decision, c_738)\n",
    "a_demandados = re.search(patron_articulos_demandados, c_738)\n",
    "articulos = re.findall(patron_articulos, a_demandados.group(1))"
   ]
  },
  {
   "cell_type": "code",
   "execution_count": 78,
   "metadata": {},
   "outputs": [],
   "source": [
    "#Relacion\n",
    "r_738 = relacion_articulos_sentencia(articulos, 738)"
   ]
  },
  {
   "cell_type": "code",
   "execution_count": 80,
   "metadata": {},
   "outputs": [
    {
     "data": {
      "text/plain": [
       "[{'sentencia_id': 318, 'articulo_id': '1', 'demanda': 'inconstitucional'},\n",
       " {'sentencia_id': 318, 'articulo_id': '3', 'demanda': 'inconstitucional'},\n",
       " {'sentencia_id': 318, 'articulo_id': '32', 'demanda': 'inconstitucional'},\n",
       " {'sentencia_id': 318, 'articulo_id': '37', 'demanda': 'inconstitucional'},\n",
       " {'sentencia_id': 318, 'articulo_id': '39', 'demanda': 'inconstitucional'},\n",
       " {'sentencia_id': 318, 'articulo_id': '42', 'demanda': 'inconstitucional'},\n",
       " {'sentencia_id': 318, 'articulo_id': '43', 'demanda': 'inconstitucional'},\n",
       " {'sentencia_id': 318, 'articulo_id': '44', 'demanda': 'inconstitucional'},\n",
       " {'sentencia_id': 318, 'articulo_id': '45', 'demanda': 'inconstitucional'},\n",
       " {'sentencia_id': 318, 'articulo_id': '47', 'demanda': 'inconstitucional'},\n",
       " {'sentencia_id': 318, 'articulo_id': '49', 'demanda': 'inconstitucional'},\n",
       " {'sentencia_id': 318, 'articulo_id': '50', 'demanda': 'inconstitucional'},\n",
       " {'sentencia_id': 318, 'articulo_id': '51', 'demanda': 'inconstitucional'},\n",
       " {'sentencia_id': 318, 'articulo_id': '53', 'demanda': 'inconstitucional'},\n",
       " {'sentencia_id': 318, 'articulo_id': '58', 'demanda': 'inconstitucional'},\n",
       " {'sentencia_id': 318, 'articulo_id': '59', 'demanda': 'inconstitucional'},\n",
       " {'sentencia_id': 318, 'articulo_id': '62', 'demanda': 'inconstitucional'},\n",
       " {'sentencia_id': 738, 'articulo_id': '3', 'demanda': 'inconstitucional'},\n",
       " {'sentencia_id': 738, 'articulo_id': '20', 'demanda': 'inconstitucional'},\n",
       " {'sentencia_id': 738, 'articulo_id': '21', 'demanda': 'inconstitucional'},\n",
       " {'sentencia_id': 738, 'articulo_id': '22', 'demanda': 'inconstitucional'},\n",
       " {'sentencia_id': 738, 'articulo_id': '45', 'demanda': 'inconstitucional'},\n",
       " {'sentencia_id': 738, 'articulo_id': '46', 'demanda': 'inconstitucional'},\n",
       " {'sentencia_id': 738, 'articulo_id': '56', 'demanda': 'inconstitucional'},\n",
       " {'sentencia_id': 738, 'articulo_id': '57', 'demanda': 'inconstitucional'},\n",
       " {'sentencia_id': 738, 'articulo_id': '59', 'demanda': 'inconstitucional'},\n",
       " {'sentencia_id': 738, 'articulo_id': '76', 'demanda': 'inconstitucional'}]"
      ]
     },
     "execution_count": 80,
     "metadata": {},
     "output_type": "execute_result"
    }
   ],
   "source": [
    "r_738"
   ]
  },
  {
   "cell_type": "code",
   "execution_count": 81,
   "metadata": {},
   "outputs": [
    {
     "ename": "AttributeError",
     "evalue": "'NoneType' object has no attribute 'group'",
     "output_type": "error",
     "traceback": [
      "\u001b[1;31m---------------------------------------------------------------------------\u001b[0m",
      "\u001b[1;31mAttributeError\u001b[0m                            Traceback (most recent call last)",
      "Cell \u001b[1;32mIn[81], line 5\u001b[0m\n\u001b[0;32m      1\u001b[0m nodo_dict \u001b[38;5;241m=\u001b[39m {}\n\u001b[0;32m      2\u001b[0m nodo_dict \u001b[38;5;241m=\u001b[39m {\n\u001b[0;32m      3\u001b[0m     \u001b[38;5;124m\"\u001b[39m\u001b[38;5;124msentencia_id\u001b[39m\u001b[38;5;124m\"\u001b[39m:\u001b[38;5;241m738\u001b[39m,\n\u001b[0;32m      4\u001b[0m     \u001b[38;5;124m\"\u001b[39m\u001b[38;5;124msentencia_name\u001b[39m\u001b[38;5;124m\"\u001b[39m:sentencia_n\u001b[38;5;241m.\u001b[39mgroup(\u001b[38;5;241m1\u001b[39m),\n\u001b[1;32m----> 5\u001b[0m     \u001b[38;5;124m\"\u001b[39m\u001b[38;5;124mdemanda\u001b[39m\u001b[38;5;124m\"\u001b[39m: \u001b[43ms_demanda\u001b[49m\u001b[38;5;241;43m.\u001b[39;49m\u001b[43mgroup\u001b[49m(\u001b[38;5;241m2\u001b[39m),\n\u001b[0;32m      6\u001b[0m     \u001b[38;5;124m\"\u001b[39m\u001b[38;5;124mdecision\u001b[39m\u001b[38;5;124m\"\u001b[39m:s_decision\u001b[38;5;241m.\u001b[39mgroup(\u001b[38;5;241m2\u001b[39m)\n\u001b[0;32m      7\u001b[0m     }\n",
      "\u001b[1;31mAttributeError\u001b[0m: 'NoneType' object has no attribute 'group'"
     ]
    }
   ],
   "source": [
    "nodo_dict = {}\n",
    "nodo_dict = {\n",
    "    \"sentencia_id\":738,\n",
    "    \"sentencia_name\":sentencia_n.group(1),\n",
    "    \"demanda\": s_demanda.group(2),\n",
    "    \"decision\":s_decision.group(2)\n",
    "    }\n"
   ]
  },
  {
   "cell_type": "markdown",
   "metadata": {},
   "source": [
    "## Save to csv"
   ]
  },
  {
   "cell_type": "code",
   "execution_count": 17,
   "metadata": {},
   "outputs": [],
   "source": [
    "def save_to_csv(lista_diccionarios, nombre_archivo):\n",
    "    # Obtener las claves del primer diccionario como encabezados\n",
    "    keys = lista_diccionarios[0].keys()\n",
    "    \n",
    "    # Abrir el archivo en modo de escritura\n",
    "    with open(nombre_archivo, 'w', newline='', encoding='utf-8') as output_file:\n",
    "        dict_writer = csv.DictWriter(output_file, fieldnames=keys)\n",
    "        dict_writer.writeheader()  # Escribir la cabecera del CSV\n",
    "        dict_writer.writerows(lista_diccionarios)  # Escribir los datos del diccionario\n",
    "\n",
    "    print(f\"Archivo guardado como {nombre_archivo}\")"
   ]
  }
 ],
 "metadata": {
  "kernelspec": {
   "display_name": ".venv",
   "language": "python",
   "name": "python3"
  },
  "language_info": {
   "codemirror_mode": {
    "name": "ipython",
    "version": 3
   },
   "file_extension": ".py",
   "mimetype": "text/x-python",
   "name": "python",
   "nbconvert_exporter": "python",
   "pygments_lexer": "ipython3",
   "version": "3.11.5"
  }
 },
 "nbformat": 4,
 "nbformat_minor": 2
}
