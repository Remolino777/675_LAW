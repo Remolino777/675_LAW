{
 "cells": [
  {
   "cell_type": "code",
   "execution_count": 1,
   "metadata": {},
   "outputs": [
    {
     "name": "stderr",
     "output_type": "stream",
     "text": [
      "None of PyTorch, TensorFlow >= 2.0, or Flax have been found. Models won't be available and only tokenizers, configuration and file/data utilities can be used.\n"
     ]
    }
   ],
   "source": [
    "import streamlit as st\n",
    "\n",
    "from langchain.llms import HuggingFacePipeline\n",
    "from langchain.memory import ConversationBufferMemory\n",
    "from langchain.chains import ConversationalRetrievalChain\n",
    "from langchain.prompts.prompt import PromptTemplate\n",
    "from langchain.embeddings import HuggingFaceEmbeddings\n",
    "from langchain.vectorstores import Neo4jVector\n",
    "from transformers import AutoTokenizer, AutoModelForCausalLM, pipeline"
   ]
  },
  {
   "cell_type": "code",
   "execution_count": 2,
   "metadata": {},
   "outputs": [],
   "source": [
    "from neo4j import GraphDatabase"
   ]
  },
  {
   "cell_type": "code",
   "execution_count": 8,
   "metadata": {},
   "outputs": [],
   "source": [
    "# Configuración del modelo\n",
    "MODEL_NAME = \"google/gemma-7b\""
   ]
  },
  {
   "cell_type": "markdown",
   "metadata": {},
   "source": [
    "# Test conection"
   ]
  },
  {
   "cell_type": "code",
   "execution_count": 4,
   "metadata": {},
   "outputs": [],
   "source": [
    "class Neo4jConnection:\n",
    "\n",
    "    def __init__(self, uri, user, password):\n",
    "        self._driver = GraphDatabase.driver(uri, auth=(user, password))\n",
    "\n",
    "    def close(self):\n",
    "        self._driver.close()\n",
    "\n",
    "    def query(self, query, parameters=None):\n",
    "        with self._driver.session() as session:\n",
    "            result = session.run(query, parameters)\n",
    "            return result.data()"
   ]
  },
  {
   "cell_type": "code",
   "execution_count": 5,
   "metadata": {},
   "outputs": [],
   "source": [
    "conn = Neo4jConnection(uri=NEO4J_URI, user=NEO4J_USER, password=NEO4J_PASSWORD)"
   ]
  },
  {
   "cell_type": "code",
   "execution_count": 6,
   "metadata": {},
   "outputs": [],
   "source": [
    "query = \"MATCH (n) RETURN n LIMIT 5\"\n",
    "results = conn.query(query)"
   ]
  },
  {
   "cell_type": "code",
   "execution_count": 7,
   "metadata": {},
   "outputs": [
    {
     "name": "stdout",
     "output_type": "stream",
     "text": [
      "{'n': {'articulo_id': 1, 'contenido': 'La presente ley regula la forma especial de dominio, denominado propiedad horizontal, en la que concurren derechos de propiedad exclusiva sobre bienes privados y derechos de copropiedad sobre el terreno y los demás bienes comunes, con el fin de garantizar la seguridad y la convivencia pacífica en los inmuebles sometidos a ella, así como la función social de la propiedad.NOTA: Texto subrayado declarado EXEQUIBLE por la Corte Constitucional mediante Sentencia C-318 de 2002, \"bajo el entendido de que los moradores no propietarios de inmuebles sometidos al régimen de propiedad horizontal podrán ejercer ante las autoridades internas del mismo el derecho de petición, así como el de ser oídos en las decisiones que puedan afectarlos, conforme a lo expuesto en la parte motiva de esta sentencia.\\'\\'Igualmente, se declara la exequibilidad de las normas acusadas bajo el entendido de que, cuando se trate de la imposición de sanciones por parte de las autoridades internas del inmueble sometido al régimen de propiedad horizontal, habrá de respetarse y garantizarse a los no propietarios el ejercicio del derecho de defensa\".', 'articulo_name': 'Artículo 1', 'detalla': 'Objeto'}}\n",
      "{'n': {'articulo_id': 2, 'contenido': 'Son principios orientadores de la presente ley:\\n1. Función social y ecológica de la propiedad. Los reglamentos de propiedad horizontal deberán respetar la función social y ecológica de la propiedad, y por ende, deberán ajustarse a lo dispuesto en la normatividad urbanística vigente.\\n2. Convivencia pacífica y solidaridad social. Los reglamentos de propiedad horizontal deberán propender al establecimiento de relaciones pacíficas de cooperación y solidaridad social entre los copropietarios o tenedores.\\n3. Respeto de la dignidad humana. El respeto de la dignidad humana debe inspirar las actuaciones de los integrantes de los órganos de administración de la copropiedad, así como las de los copropietarios para el ejercicio de los derechos y obligaciones derivados de la ley.\\n4. Libre iniciativa empresarial. Atendiendo las disposiciones urbanísticas vigentes, los reglamentos de propiedad horizontal de los edificios o conjuntos de uso comercial o mixto, así como los integrantes de los órganos de administración correspondientes, deberán respetar el desarrollo de la libre iniciativa privada dentro de los límites del bien común.\\n5. Derecho al debido proceso. Las actuaciones de la asamblea o del consejo de administración, tendientes a la imposición de sanciones por incumplimiento de obligaciones no pecuniarias, deberán consultar el debido proceso, el derecho de defensa, contradicción e impugnación.', 'articulo_name': 'Artículo 2', 'detalla': 'Principios orientadores de la ley'}}\n",
      "{'n': {'articulo_id': 3, 'contenido': 'Definiciones. Para los efectos de la presente ley se establecen las siguientes definiciones:\\nRégimen de Propiedad Horizontal: Sistema jurídico que regula el sometimiento a propiedad horizontal de un edificio o conjunto, construido o por construirse.\\nReglamento de Propiedad Horizontal. Estatuto que regula los derechos y obligaciones específicas de los copropietarios de un edificio o conjunto sometido al régimen de propiedad horizontal.\\xa0NOTA: Texto subrayado declarado EXEQUIBLE por la Corte Constitucional mediante Sentencia C-318 de 2002, \"bajo el entendido de que los moradores no propietarios de inmuebles sometidos al régimen de propiedad horizontal podrán ejercer ante las autoridades internas del mismo el derecho de petición, así como el de ser oídos en las decisiones que puedan afectarlos, conforme a lo expuesto en la parte motiva de esta sentencia.Igualmente, se declara la exequibilidad de las normas acusadas bajo el entendido de que, cuando se trate de la imposición de sanciones por parte de las autoridades internas del inmueble sometido al régimen de propiedad horizontal, habrá de respetarse y garantizarse a los no propietarios el ejercicio del derecho de defensa\".\\nEdificio: Construcción de uno o varios pisos levantados sobre un lote o terreno, cuya estructura comprende un número plural de unidades independientes, aptas para ser usadas de acuerdo con su destino natural o convencional, además de áreas y servicios de uso y utilidad general. Una vez sometido al régimen de propiedad horizontal, se conforma por bienes privados o de dominio particular y por bienes comunes.\\nConjunto: Desarrollo inmobiliario conformado por varios edificios levantados sobre uno o varios lotes de terreno, que comparten, áreas y servicios de uso y utilidad general, como vías internas, estacionamientos, zonas verdes, muros de cerramiento, porterías, entre otros. Puede conformarse también por varias unidades de vivienda, comercio o industria, estructuralmente independientes.\\nEdificio o conjunto de uso residencial: Inmuebles cuyos bienes de dominio particular se encuentran destinados a la vivienda de personas, de acuerdo con la normatividad urbanística vigente.\\nEdificio o conjunto de uso comercial: Inmuebles cuyos bienes de dominio particular se encuentran destinados al desarrollo de actividades mercantiles, de conformidad con la normatividad urbanística vigente.\\nEdificio o conjunto de uso mixto: Inmuebles cuyos bienes de dominio particular tienen diversas destinaciones, tales como vivienda, comercio, industria u oficinas, de conformidad con la normatividad urbanística vigente.\\nBienes privados o de dominio particular: Inmuebles debidamente delimitados, funcionalmente independientes, de propiedad y aprovechamiento exclusivo, integrantes de un edificio o conjunto sometido al régimen de propiedad horizontal, con salida a la vía pública directamente o por pasaje común.\\nBienes comunes: Partes del edificio o conjunto sometido al régimen de propiedad horizontal pertenecientes en proindiviso a todos los propietarios de bienes privados, que por su naturaleza o destinación permiten o facilitan la existencia, estabilidad, funcionamiento, conservación, seguridad, uso, goce o explotación de los bienes de dominio particular.\\nBienes comunes esenciales: Bienes indispensables para la existencia, estabilidad, conservación y seguridad del edificio o conjunto, así como los imprescindibles para el uso y disfrute de los bienes de dominio particular. Los demás tendrán el carácter de bienes comunes no esenciales. Se reputan bienes comunes esenciales, el terreno sobre o bajo el cual existan construcciones o instalaciones de servicios públicos básicos, los cimientos, la estructura, las circulaciones indispensables para aprovechamiento de bienes privados, las instalaciones generales de servicios públicos, las fachadas y los techos o losas que sirven de cubiertas a cualquier nivel.\\nExpensas comunes necesarias: Erogaciones necesarias causadas por la administración y la prestación de los servicios comunes esenciales requeridos para la existencia, seguridad y conservación de los bienes comunes del edificio o conjunto. Para estos efectos se entenderán esenciales los servicios necesarios, para el mantenimiento, reparación, reposición, reconstrucción y vigilancia de los bienes comunes, así como los servicios públicos esenciales relacionados con estos.\\nEn los edificios o conjuntos de uso comercial, los costos de mercadeo tendrán el carácter de expensa común necesaria, sin perjuicio de las excepciones y restricciones que el reglamento de propiedad horizontal respectivo establezca.NOTA: Texto subrayado declarado exequible por la Corte Constitucional mediante Sentencia C-738 de 2002.\\nLas expensas comunes diferentes de las necesarias, tendrán carácter obligatorio cuando sean aprobadas por la mayoría calificada exigida para el efecto en la presente ley.\\nCoeficientes de copropiedad: Indices que establecen la participación porcentual de cada uno de los propie tarios de bienes de dominio particular en los bienes comunes del edificio o conjunto sometido al régimen de propiedad horizontal. Definen además su participación en la asamblea de propietarios y la proporción con que cada uno contribuirá en las expensas comunes del edificio o conjunto, sin perjuicio de las que se determinen por módulos de contribución, en edificios o conjuntos de uso comercial o mixto.\\xa0NOTA: Texto subrayado declarado EXEQUIBLE por la Corte Constitucional mediante Sentencia C-522 de 2002.\\nMódulos de contribución: Indices que establecen la participación porcentual de los propietarios de bienes de dominio particular, en las expensas causadas en relación con los bienes y servicios comunes cuyo uso y goce corresponda a una parte o sector determinado del edificio o conjunto de uso comercial o mixto.\\nPropietario inicial: Titular del derecho de dominio sobre un inmueble determinado, que por medio de manifestación de voluntad contenida en escritura pública, lo somete al régimen de propiedad horizontal.\\nArea privada construida: Extensión superficiaria cubierta de cada bien privado, excluyendo los bienes comunes localizados dentro de sus linderos, de conformidad con las normas legales.\\nArea privada libre: Extensión superficiaria privada semidescubierta o descubierta, excluyendo los bienes comunes localizados dentro de sus linderos, de conformidad con las normas legales.', 'articulo_name': 'Artículo 3', 'detalla': 'Reglamentado por el Decreto Nacional 1060 de 2009'}}\n",
      "{'n': {'articulo_id': 4, 'contenido': 'Un edificio o conjunto se somete al régimen de propiedad horizontal mediante escritura pública registrada en la Oficina de Registro de Instrumentos Públicos. Realizada esta inscripción, surge la persona jurídica a que se refiere esta ley.', 'articulo_name': 'Artículo 4', 'detalla': 'Constitución'}}\n",
      "{'n': {'articulo_id': 5, 'contenido': 'a escritura pública que contiene el reglamento de propiedad horizontal deberá incluir como mínimo:\\n1. El nombre e identificación del propietario.\\n2. El nombre distintivo del edificio o conjunto.\\n3. La determinación del terreno o terrenos sobre los cuales se levanta el edificio o conjunto, por su nomenclatura, área y linderos, indicando el título o títulos de adquisición y los correspondientes folios de matrícula inmobiliaria.\\n4. La identificación de cada uno de los bienes de dominio particular de acuerdo con los planos aprobados por la Oficina de Planeación Municipal o Distrital o por la entidad o persona que haga sus veces.\\n5. La determinación de los bienes comunes, con indicación de los que tengan el carácter de esenciales, y de aquellos cuyo uso se asigne a determinados sectores del edificio o conjunto, cuando fuere el caso.\\n6. Los coeficientes de copropiedad y los módulos de contribución, según el caso.\\n7. La destinación de los bienes de dominio particular que conforman el edificio o conjunto, la cual deberá ajustarse a las normas urbanísticas vigentes.\\n8. Las especificaciones de construcción y condiciones de seguridad y salubridad del edificio o conjunto.\\nAdemás de este contenido básico, los reglamentos de propiedad horizontal incluirán las regulaciones relacionadas con la administración, dirección y control de la persona jurídica que nace por ministerio de esta ley y las reglas que gobiernan la organización y funcionamiento del edificio o conjunto.\\nPARÁGRAFO 1º. En ningún caso las disposiciones contenidas en los reglamentos de propiedad horizontal podrán vulnerar las normas imperativas contenidas en esta ley y, en tal caso, se entenderán no escritas.\\nPARÁGRAFO 2º. En los municipios o distritos donde existan planos prediales georreferenciados, adoptados o debidamente aprobados por la autoridad catastral competente, estos podrán sustituir los elementos de determinación del terreno enunciados en el numeral tercero del presente artículo.\\nPARÁGRAFO 3º. Los reglamentos de propiedad horizontal de los edificios o conjuntos de uso comercial podrán consagrar, además del contenido mínimo previsto en esta ley, regulaciones tendientes a preservar el ejercicio efectivo y continuo de la actividad mercantil en los bienes privados, y a propender a su ubicación según el uso específico o sectorial al cual se encuentren destinados, así como las obligaciones específicas de los propietarios en relación con sus bienes privados.\\nPARÁGRAFO 4º. El reglamento de administración de la propiedad horizontal no podrá contener normas que prohíban la enajenación o gravamen de los bienes de dominio privado, ni limitar o prohibir la cesión de los mismos a cualquier título.', 'articulo_name': 'Artículo 5', 'detalla': 'Contenido de la escritura o reglamento de propiedad horizontal'}}\n"
     ]
    }
   ],
   "source": [
    "for record in results:\n",
    "    print(record)"
   ]
  }
 ],
 "metadata": {
  "kernelspec": {
   "display_name": ".venv",
   "language": "python",
   "name": "python3"
  },
  "language_info": {
   "codemirror_mode": {
    "name": "ipython",
    "version": 3
   },
   "file_extension": ".py",
   "mimetype": "text/x-python",
   "name": "python",
   "nbconvert_exporter": "python",
   "pygments_lexer": "ipython3",
   "version": "3.11.5"
  }
 },
 "nbformat": 4,
 "nbformat_minor": 2
}
