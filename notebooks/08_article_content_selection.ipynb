{
 "cells": [
  {
   "cell_type": "code",
   "execution_count": 12,
   "metadata": {},
   "outputs": [],
   "source": [
    "import pandas as pd"
   ]
  },
  {
   "cell_type": "code",
   "execution_count": 34,
   "metadata": {},
   "outputs": [],
   "source": [
    "data = pd.read_csv(r'D:\\0_Respaldo\\000_KaggleX\\Projects\\Rag-Ley675\\675_LAW\\data\\clean\\q-0-132.csv', encoding='latin-1')\n",
    "data2 = pd.read_csv(r'D:\\0_Respaldo\\000_KaggleX\\Projects\\Rag-Ley675\\675_LAW\\data\\clean\\q-133-216.csv', encoding='latin-1')\n",
    "data3 = pd.read_csv(r'D:\\0_Respaldo\\000_KaggleX\\Projects\\Rag-Ley675\\675_LAW\\data\\clean\\q-217-910.csv', encoding='latin-1')"
   ]
  },
  {
   "cell_type": "code",
   "execution_count": 35,
   "metadata": {},
   "outputs": [],
   "source": [
    "df = pd.concat([data,data2,data3])"
   ]
  },
  {
   "cell_type": "code",
   "execution_count": 44,
   "metadata": {},
   "outputs": [
    {
     "data": {
      "text/html": [
       "<div>\n",
       "<style scoped>\n",
       "    .dataframe tbody tr th:only-of-type {\n",
       "        vertical-align: middle;\n",
       "    }\n",
       "\n",
       "    .dataframe tbody tr th {\n",
       "        vertical-align: top;\n",
       "    }\n",
       "\n",
       "    .dataframe thead th {\n",
       "        text-align: right;\n",
       "    }\n",
       "</style>\n",
       "<table border=\"1\" class=\"dataframe\">\n",
       "  <thead>\n",
       "    <tr style=\"text-align: right;\">\n",
       "      <th></th>\n",
       "      <th>pregunta_id</th>\n",
       "      <th>pregunta</th>\n",
       "      <th>articulo_id</th>\n",
       "      <th>embeding</th>\n",
       "    </tr>\n",
       "  </thead>\n",
       "  <tbody>\n",
       "    <tr>\n",
       "      <th>0</th>\n",
       "      <td>1_1</td>\n",
       "      <td>¿Qué características definen la propiedad hori...</td>\n",
       "      <td>1</td>\n",
       "      <td>NaN</td>\n",
       "    </tr>\n",
       "    <tr>\n",
       "      <th>1</th>\n",
       "      <td>2_1</td>\n",
       "      <td>¿Qué derechos se confieren a los propietarios ...</td>\n",
       "      <td>1</td>\n",
       "      <td>NaN</td>\n",
       "    </tr>\n",
       "    <tr>\n",
       "      <th>2</th>\n",
       "      <td>3_1</td>\n",
       "      <td>¿Qué derechos se garantizan a los no propietar...</td>\n",
       "      <td>1</td>\n",
       "      <td>NaN</td>\n",
       "    </tr>\n",
       "  </tbody>\n",
       "</table>\n",
       "</div>"
      ],
      "text/plain": [
       "  pregunta_id                                           pregunta  articulo_id  \\\n",
       "0         1_1  ¿Qué características definen la propiedad hori...            1   \n",
       "1         2_1  ¿Qué derechos se confieren a los propietarios ...            1   \n",
       "2         3_1  ¿Qué derechos se garantizan a los no propietar...            1   \n",
       "\n",
       "   embeding  \n",
       "0       NaN  \n",
       "1       NaN  \n",
       "2       NaN  "
      ]
     },
     "execution_count": 44,
     "metadata": {},
     "output_type": "execute_result"
    }
   ],
   "source": [
    "df.head(3)"
   ]
  },
  {
   "cell_type": "code",
   "execution_count": 45,
   "metadata": {},
   "outputs": [],
   "source": [
    "df[['id_parte1', 'id_parte2']] = df['pregunta_id'].str.split('_', expand=True)\n",
    "\n",
    "# Convertir ambas partes a enteros\n",
    "df['id_parte1'] = df['id_parte1'].astype(int)\n",
    "df['id_parte2'] = df['id_parte2'].astype(int)"
   ]
  },
  {
   "cell_type": "code",
   "execution_count": 46,
   "metadata": {},
   "outputs": [],
   "source": [
    "df['pregunta_id'] = df['id_parte1'] * 10 + df['id_parte2']"
   ]
  },
  {
   "cell_type": "code",
   "execution_count": 52,
   "metadata": {},
   "outputs": [
    {
     "data": {
      "text/html": [
       "<div>\n",
       "<style scoped>\n",
       "    .dataframe tbody tr th:only-of-type {\n",
       "        vertical-align: middle;\n",
       "    }\n",
       "\n",
       "    .dataframe tbody tr th {\n",
       "        vertical-align: top;\n",
       "    }\n",
       "\n",
       "    .dataframe thead th {\n",
       "        text-align: right;\n",
       "    }\n",
       "</style>\n",
       "<table border=\"1\" class=\"dataframe\">\n",
       "  <thead>\n",
       "    <tr style=\"text-align: right;\">\n",
       "      <th></th>\n",
       "      <th>pregunta_id</th>\n",
       "      <th>pregunta</th>\n",
       "      <th>articulo_id</th>\n",
       "      <th>embeding</th>\n",
       "    </tr>\n",
       "  </thead>\n",
       "  <tbody>\n",
       "    <tr>\n",
       "      <th>0</th>\n",
       "      <td>11</td>\n",
       "      <td>¿Qué características definen la propiedad hori...</td>\n",
       "      <td>1</td>\n",
       "      <td>NaN</td>\n",
       "    </tr>\n",
       "    <tr>\n",
       "      <th>1</th>\n",
       "      <td>21</td>\n",
       "      <td>¿Qué derechos se confieren a los propietarios ...</td>\n",
       "      <td>1</td>\n",
       "      <td>NaN</td>\n",
       "    </tr>\n",
       "    <tr>\n",
       "      <th>2</th>\n",
       "      <td>31</td>\n",
       "      <td>¿Qué derechos se garantizan a los no propietar...</td>\n",
       "      <td>1</td>\n",
       "      <td>NaN</td>\n",
       "    </tr>\n",
       "    <tr>\n",
       "      <th>3</th>\n",
       "      <td>42</td>\n",
       "      <td>¿Qué papel juega la función social y ecológica...</td>\n",
       "      <td>2</td>\n",
       "      <td>NaN</td>\n",
       "    </tr>\n",
       "    <tr>\n",
       "      <th>4</th>\n",
       "      <td>57</td>\n",
       "      <td>¿Qué aspectos específicos de la escritura de c...</td>\n",
       "      <td>7</td>\n",
       "      <td>NaN</td>\n",
       "    </tr>\n",
       "    <tr>\n",
       "      <th>...</th>\n",
       "      <td>...</td>\n",
       "      <td>...</td>\n",
       "      <td>...</td>\n",
       "      <td>...</td>\n",
       "    </tr>\n",
       "    <tr>\n",
       "      <th>85</th>\n",
       "      <td>912</td>\n",
       "      <td>¿Cuál es el plazo para impugnar una sanción?</td>\n",
       "      <td>62</td>\n",
       "      <td>NaN</td>\n",
       "    </tr>\n",
       "    <tr>\n",
       "      <th>86</th>\n",
       "      <td>922</td>\n",
       "      <td>¿Qué procedimiento legal se utiliza para impug...</td>\n",
       "      <td>62</td>\n",
       "      <td>NaN</td>\n",
       "    </tr>\n",
       "    <tr>\n",
       "      <th>87</th>\n",
       "      <td>934</td>\n",
       "      <td>¿Qué tipo de propiedades se consideran Unidade...</td>\n",
       "      <td>64</td>\n",
       "      <td>NaN</td>\n",
       "    </tr>\n",
       "    <tr>\n",
       "      <th>88</th>\n",
       "      <td>944</td>\n",
       "      <td>¿Qué requisitos deben cumplir las UIC para ser...</td>\n",
       "      <td>64</td>\n",
       "      <td>NaN</td>\n",
       "    </tr>\n",
       "    <tr>\n",
       "      <th>89</th>\n",
       "      <td>954</td>\n",
       "      <td>¿Qué significa la frase \"administradores de lo...</td>\n",
       "      <td>64</td>\n",
       "      <td>NaN</td>\n",
       "    </tr>\n",
       "  </tbody>\n",
       "</table>\n",
       "<p>227 rows × 4 columns</p>\n",
       "</div>"
      ],
      "text/plain": [
       "    pregunta_id                                           pregunta  \\\n",
       "0            11  ¿Qué características definen la propiedad hori...   \n",
       "1            21  ¿Qué derechos se confieren a los propietarios ...   \n",
       "2            31  ¿Qué derechos se garantizan a los no propietar...   \n",
       "3            42  ¿Qué papel juega la función social y ecológica...   \n",
       "4            57  ¿Qué aspectos específicos de la escritura de c...   \n",
       "..          ...                                                ...   \n",
       "85          912       ¿Cuál es el plazo para impugnar una sanción?   \n",
       "86          922  ¿Qué procedimiento legal se utiliza para impug...   \n",
       "87          934  ¿Qué tipo de propiedades se consideran Unidade...   \n",
       "88          944  ¿Qué requisitos deben cumplir las UIC para ser...   \n",
       "89          954  ¿Qué significa la frase \"administradores de lo...   \n",
       "\n",
       "    articulo_id  embeding  \n",
       "0             1       NaN  \n",
       "1             1       NaN  \n",
       "2             1       NaN  \n",
       "3             2       NaN  \n",
       "4             7       NaN  \n",
       "..          ...       ...  \n",
       "85           62       NaN  \n",
       "86           62       NaN  \n",
       "87           64       NaN  \n",
       "88           64       NaN  \n",
       "89           64       NaN  \n",
       "\n",
       "[227 rows x 4 columns]"
      ]
     },
     "execution_count": 52,
     "metadata": {},
     "output_type": "execute_result"
    }
   ],
   "source": [
    "df"
   ]
  },
  {
   "cell_type": "code",
   "execution_count": 51,
   "metadata": {},
   "outputs": [
    {
     "data": {
      "text/plain": [
       "0      1\n",
       "1      1\n",
       "2      1\n",
       "3      2\n",
       "4      7\n",
       "      ..\n",
       "85    62\n",
       "86    62\n",
       "87    64\n",
       "88    64\n",
       "89    64\n",
       "Name: id_parte2, Length: 227, dtype: int32"
      ]
     },
     "execution_count": 51,
     "metadata": {},
     "output_type": "execute_result"
    }
   ],
   "source": [
    "df.pop('id_parte2')"
   ]
  },
  {
   "cell_type": "code",
   "execution_count": 53,
   "metadata": {},
   "outputs": [],
   "source": [
    "df.to_csv('preguntas_articulos_nodos.csv', index=False)"
   ]
  },
  {
   "cell_type": "code",
   "execution_count": 30,
   "metadata": {},
   "outputs": [],
   "source": [
    "df = data.copy()"
   ]
  },
  {
   "cell_type": "code",
   "execution_count": 31,
   "metadata": {},
   "outputs": [],
   "source": [
    "df = df.fillna('NaN')"
   ]
  },
  {
   "cell_type": "code",
   "execution_count": 32,
   "metadata": {},
   "outputs": [],
   "source": [
    "df1 = df[['pregunta', 'articulo_id']]"
   ]
  },
  {
   "cell_type": "code",
   "execution_count": 39,
   "metadata": {},
   "outputs": [],
   "source": [
    "df1['responde'] = 'Hacia articulo'"
   ]
  },
  {
   "cell_type": "code",
   "execution_count": 40,
   "metadata": {},
   "outputs": [
    {
     "data": {
      "text/html": [
       "<div>\n",
       "<style scoped>\n",
       "    .dataframe tbody tr th:only-of-type {\n",
       "        vertical-align: middle;\n",
       "    }\n",
       "\n",
       "    .dataframe tbody tr th {\n",
       "        vertical-align: top;\n",
       "    }\n",
       "\n",
       "    .dataframe thead th {\n",
       "        text-align: right;\n",
       "    }\n",
       "</style>\n",
       "<table border=\"1\" class=\"dataframe\">\n",
       "  <thead>\n",
       "    <tr style=\"text-align: right;\">\n",
       "      <th></th>\n",
       "      <th>pregunta</th>\n",
       "      <th>articulo_id</th>\n",
       "      <th>responde</th>\n",
       "    </tr>\n",
       "  </thead>\n",
       "  <tbody>\n",
       "    <tr>\n",
       "      <th>47</th>\n",
       "      <td>¿Qué documentos son necesarios para que el rep...</td>\n",
       "      <td>48</td>\n",
       "      <td>Hacia articulo</td>\n",
       "    </tr>\n",
       "    <tr>\n",
       "      <th>37</th>\n",
       "      <td>¿Qué tipo de errores aritméticos pueden afecta...</td>\n",
       "      <td>28</td>\n",
       "      <td>Hacia articulo</td>\n",
       "    </tr>\n",
       "    <tr>\n",
       "      <th>10</th>\n",
       "      <td>¿Qué tipo de decisión unánime es necesaria par...</td>\n",
       "      <td>9</td>\n",
       "      <td>Hacia articulo</td>\n",
       "    </tr>\n",
       "    <tr>\n",
       "      <th>15</th>\n",
       "      <td>¿Qué porcentaje de destrucción o deterioro del...</td>\n",
       "      <td>13</td>\n",
       "      <td>Hacia articulo</td>\n",
       "    </tr>\n",
       "    <tr>\n",
       "      <th>5</th>\n",
       "      <td>¿Cómo se integran las etapas subsiguientes al ...</td>\n",
       "      <td>7</td>\n",
       "      <td>Hacia articulo</td>\n",
       "    </tr>\n",
       "  </tbody>\n",
       "</table>\n",
       "</div>"
      ],
      "text/plain": [
       "                                             pregunta  articulo_id  \\\n",
       "47  ¿Qué documentos son necesarios para que el rep...           48   \n",
       "37  ¿Qué tipo de errores aritméticos pueden afecta...           28   \n",
       "10  ¿Qué tipo de decisión unánime es necesaria par...            9   \n",
       "15  ¿Qué porcentaje de destrucción o deterioro del...           13   \n",
       "5   ¿Cómo se integran las etapas subsiguientes al ...            7   \n",
       "\n",
       "          responde  \n",
       "47  Hacia articulo  \n",
       "37  Hacia articulo  \n",
       "10  Hacia articulo  \n",
       "15  Hacia articulo  \n",
       "5   Hacia articulo  "
      ]
     },
     "execution_count": 40,
     "metadata": {},
     "output_type": "execute_result"
    }
   ],
   "source": [
    "df1.sample(5)"
   ]
  },
  {
   "cell_type": "code",
   "execution_count": 41,
   "metadata": {},
   "outputs": [],
   "source": [
    "df1.to_csv('preguntas_articulos_enlace.csv', index=False)"
   ]
  },
  {
   "cell_type": "code",
   "execution_count": null,
   "metadata": {},
   "outputs": [],
   "source": []
  }
 ],
 "metadata": {
  "kernelspec": {
   "display_name": ".venv",
   "language": "python",
   "name": "python3"
  },
  "language_info": {
   "codemirror_mode": {
    "name": "ipython",
    "version": 3
   },
   "file_extension": ".py",
   "mimetype": "text/x-python",
   "name": "python",
   "nbconvert_exporter": "python",
   "pygments_lexer": "ipython3",
   "version": "3.11.5"
  }
 },
 "nbformat": 4,
 "nbformat_minor": 2
}
