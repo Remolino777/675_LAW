{
 "cells": [
  {
   "cell_type": "code",
   "execution_count": 1,
   "metadata": {},
   "outputs": [],
   "source": [
    "import pandas as pd"
   ]
  },
  {
   "cell_type": "code",
   "execution_count": 8,
   "metadata": {},
   "outputs": [],
   "source": [
    "data = pd.read_csv(r'D:\\0_Respaldo\\000_KaggleX\\Projects\\Rag-Ley675\\675_LAW\\notebooks\\titulos.csv')"
   ]
  },
  {
   "cell_type": "code",
   "execution_count": 9,
   "metadata": {},
   "outputs": [
    {
     "data": {
      "text/html": [
       "<div>\n",
       "<style scoped>\n",
       "    .dataframe tbody tr th:only-of-type {\n",
       "        vertical-align: middle;\n",
       "    }\n",
       "\n",
       "    .dataframe tbody tr th {\n",
       "        vertical-align: top;\n",
       "    }\n",
       "\n",
       "    .dataframe thead th {\n",
       "        text-align: right;\n",
       "    }\n",
       "</style>\n",
       "<table border=\"1\" class=\"dataframe\">\n",
       "  <thead>\n",
       "    <tr style=\"text-align: right;\">\n",
       "      <th></th>\n",
       "      <th>titulo</th>\n",
       "      <th>capitulos</th>\n",
       "      <th>articulos</th>\n",
       "    </tr>\n",
       "  </thead>\n",
       "  <tbody>\n",
       "    <tr>\n",
       "      <th>0</th>\n",
       "      <td>Titulo I</td>\n",
       "      <td>[{'capitulo': 'Capitulo I', 'articulos': [{'ar...</td>\n",
       "      <td>[{'articulo': 'articulo 56', 'contenido': 'Obl...</td>\n",
       "    </tr>\n",
       "    <tr>\n",
       "      <th>1</th>\n",
       "      <td>Titulo II</td>\n",
       "      <td>[{'capitulo': 'Capitulo I', 'articulos': [{'ar...</td>\n",
       "      <td>[{'articulo': 'articulo 59', 'contenido': 'Cla...</td>\n",
       "    </tr>\n",
       "    <tr>\n",
       "      <th>2</th>\n",
       "      <td>Titulo III</td>\n",
       "      <td>[{'capitulo': 'Capitulo I', 'articulos': [{'ar...</td>\n",
       "      <td>[{'articulo': 'articulo 78', 'contenido': 'Cuo...</td>\n",
       "    </tr>\n",
       "  </tbody>\n",
       "</table>\n",
       "</div>"
      ],
      "text/plain": [
       "       titulo                                          capitulos  \\\n",
       "0    Titulo I  [{'capitulo': 'Capitulo I', 'articulos': [{'ar...   \n",
       "1   Titulo II  [{'capitulo': 'Capitulo I', 'articulos': [{'ar...   \n",
       "2  Titulo III  [{'capitulo': 'Capitulo I', 'articulos': [{'ar...   \n",
       "\n",
       "                                           articulos  \n",
       "0  [{'articulo': 'articulo 56', 'contenido': 'Obl...  \n",
       "1  [{'articulo': 'articulo 59', 'contenido': 'Cla...  \n",
       "2  [{'articulo': 'articulo 78', 'contenido': 'Cuo...  "
      ]
     },
     "execution_count": 9,
     "metadata": {},
     "output_type": "execute_result"
    }
   ],
   "source": [
    "data.head(3)"
   ]
  },
  {
   "cell_type": "code",
   "execution_count": 4,
   "metadata": {},
   "outputs": [
    {
     "data": {
      "text/plain": [
       "0    [{'capitulo': 'Capitulo I', 'articulos': [{'ar...\n",
       "1    [{'capitulo': 'Capitulo I', 'articulos': [{'ar...\n",
       "2    [{'capitulo': 'Capitulo I', 'articulos': [{'ar...\n",
       "Name: capitulos, dtype: object"
      ]
     },
     "execution_count": 4,
     "metadata": {},
     "output_type": "execute_result"
    }
   ],
   "source": [
    "data.capitulos.head(3)"
   ]
  }
 ],
 "metadata": {
  "kernelspec": {
   "display_name": ".venv",
   "language": "python",
   "name": "python3"
  },
  "language_info": {
   "codemirror_mode": {
    "name": "ipython",
    "version": 3
   },
   "file_extension": ".py",
   "mimetype": "text/x-python",
   "name": "python",
   "nbconvert_exporter": "python",
   "pygments_lexer": "ipython3",
   "version": "3.11.5"
  }
 },
 "nbformat": 4,
 "nbformat_minor": 2
}
