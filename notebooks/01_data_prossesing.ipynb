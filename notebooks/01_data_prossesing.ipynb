{
 "cells": [
  {
   "cell_type": "code",
   "execution_count": null,
   "metadata": {},
   "outputs": [],
   "source": [
    "from dotenv import load_dotenv\n",
    "import os\n",
    "\n",
    "# Common data processing\n",
    "import json\n",
    "import textwrap\n",
    "\n",
    "# Langchain\n",
    "from langchain_community.graphs import Neo4jGraph\n",
    "from langchain_community.vectorstores import Neo4jVector\n",
    "from langchain_openai import OpenAIEmbeddings\n",
    "from langchain.text_splitter import RecursiveCharacterTextSplitter\n",
    "from langchain.chains import RetrievalQAWithSourcesChain\n",
    "from langchain_openai import ChatOpenAI\n",
    "\n",
    "\n",
    "# Warning control\n",
    "import warnings\n",
    "warnings.filterwarnings(\"ignore\")"
   ]
  },
  {
   "cell_type": "code",
   "execution_count": 5,
   "metadata": {},
   "outputs": [],
   "source": [
    "import json"
   ]
  },
  {
   "cell_type": "code",
   "execution_count": 3,
   "metadata": {},
   "outputs": [],
   "source": [
    "first_file_name = r\"D:\\0_Respaldo\\000_KaggleX\\Projects\\Rag-Ley675\\675_LAW\\data\\clean\\675_law.json\""
   ]
  },
  {
   "cell_type": "code",
   "execution_count": 7,
   "metadata": {},
   "outputs": [],
   "source": [
    "with open(first_file_name, encoding='utf-8') as f:\n",
    "    first_file_object = json.load(f)"
   ]
  },
  {
   "cell_type": "code",
   "execution_count": 8,
   "metadata": {},
   "outputs": [
    {
     "data": {
      "text/plain": [
       "dict"
      ]
     },
     "execution_count": 8,
     "metadata": {},
     "output_type": "execute_result"
    }
   ],
   "source": [
    "type(first_file_object)"
   ]
  },
  {
   "cell_type": "code",
   "execution_count": 15,
   "metadata": {},
   "outputs": [],
   "source": [
    "def print_nested(data, indent=0):\n",
    "    if isinstance(data, dict):\n",
    "        for key, value in data.items():\n",
    "            print('  ' * indent + f\"{key}: {type(value)}\")\n",
    "            print_nested(value, indent + 1)\n",
    "    elif isinstance(data, list):\n",
    "        for index, item in enumerate(data):\n",
    "            print('  ' * indent + f\"[{index}]: {type(item)}\")\n",
    "            print_nested(item, indent + 1)\n",
    "    else:\n",
    "        # Para cualquier otro tipo de dato, imprimimos el valor\n",
    "        print('  ' * indent + f\"Valor: {data}\")"
   ]
  },
  {
   "cell_type": "code",
   "execution_count": 17,
   "metadata": {},
   "outputs": [
    {
     "name": "stdout",
     "output_type": "stream",
     "text": [
      "ley: <class 'dict'>\n",
      "  nombre: <class 'str'>\n",
      "    Valor: Ley 675 del 2001\n",
      "  expedicion: <class 'str'>\n",
      "    Valor: 03/08/2001\n",
      "  vigencia: <class 'str'>\n",
      "    Valor: 04/08/2021\n",
      "  titulo: <class 'list'>\n",
      "    [0]: <class 'dict'>\n",
      "      titulo_numero: <class 'int'>\n",
      "        Valor: 1\n",
      "      titulo: <class 'str'>\n",
      "        Valor: generalidades\n",
      "      capitulos: <class 'list'>\n",
      "        [0]: <class 'dict'>\n",
      "          capitulo_numero: <class 'int'>\n",
      "            Valor: 1\n",
      "          titulo: <class 'str'>\n",
      "            Valor: objeto y definiciones\n",
      "          articulos: <class 'list'>\n",
      "            [0]: <class 'dict'>\n",
      "              articulo_numero: <class 'int'>\n",
      "                Valor: 1\n",
      "              titulo: <class 'str'>\n",
      "                Valor: objeto\n",
      "              contenido: <class 'str'>\n",
      "                Valor: La presente ley regula la forma especial de dominio, denominado propiedad horizontal, en la que concurren derechos de propiedad exclusiva sobre bienes privados y derechos de copropiedad sobre el terreno y los demás bienes comunes, con el fin de garantizar la seguridad y la convivencia pacífica en los inmuebles sometidos a ella, así como la función social de la propiedad.\n",
      "NOTA: Texto subrayado declarado EXEQUIBLE por la Corte Constitucional mediante Sentencia C-318 de 2002\n",
      "              sentencia: <class 'str'>\n",
      "                Valor: C-318 de 2002\n",
      "              extracto_sentencia: <class 'str'>\n",
      "                Valor: bajo el entendido de que los moradores no propietarios de inmuebles sometidos al régimen de propiedad horizontal podrán ejercer ante las autoridades internas del mismo el derecho de petición, así como el de ser oídos en las decisiones que puedan afectarlos, conforme a lo expuesto en la parte motiva de esta sentencia. 'Igualmente, se declara la exequibilidad de las normas acusadas bajo el entendido de que, cuando se trate de la imposición de sanciones por parte de las autoridades internas del inmueble sometido al régimen de propiedad horizontal, habrá de respetarse y garantizarse a los no propietarios el ejercicio del derecho de defensa'\n",
      "            [1]: <class 'dict'>\n",
      "              articulo_numero: <class 'int'>\n",
      "                Valor: 2\n",
      "              titulo: <class 'str'>\n",
      "                Valor: Principios orientadores de la ley\n",
      "              contenido: <class 'str'>\n",
      "                Valor: Son principios orientadores de la presente ley: /n1. Función social y ecológica de la propiedad. Los reglamentos de propiedad horizontal deberán respetar la función social y ecológica de la propiedad, y por ende, deberán ajustarse a lo dispuesto en la normatividad urbanística vigente. /n 2. Convivencia pacífica y solidaridad social. Los reglamentos de propiedad horizontal deberán propender al establecimiento de relaciones pacíficas de cooperación y solidaridad social entre los copropietarios o tenedores. /n3. Respeto de la dignidad humana. El respeto de la dignidad humana debe inspirar las actuaciones de los integrantes de los órganos de administración de la copropiedad, así como las de los copropietarios para el ejercicio de los derechos y obligaciones derivados de la ley. /n4. Libre iniciativa empresarial. Atendiendo las disposiciones urbanísticas vigentes, los reglamentos de propiedad horizontal de los edificios o conjuntos de uso comercial o mixto, así como los integrantes de los órganos de administración correspondientes, deberán respetar el desarrollo de la libre iniciativa privada dentro de los límites del bien común. /n5. Derecho al debido proceso. Las actuaciones de la asamblea o del consejo de administración, tendientes a la imposición de sanciones por incumplimiento de obligaciones no pecuniarias, deberán consultar el debido proceso, el derecho de defensa, contradicción e impugnación.\n",
      "            [2]: <class 'dict'>\n",
      "              articulo_numero: <class 'int'>\n",
      "                Valor: 3\n",
      "              titulo: <class 'str'>\n",
      "                Valor: definiciones\n",
      "              decreto: <class 'str'>\n",
      "                Valor: 1060 de 2009\n",
      "              contenido: <class 'str'>\n",
      "                Valor: Para los efectos de la presente ley se establecen las siguientes definiciones: Régimen de Propiedad Horizontal: Sistema jurídico que regula el sometimiento a propiedad horizontal de un edificio o conjunto, construido o por construirse. Reglamento de Propiedad Horizontal. Estatuto que regula los derechos y obligaciones específicas de los copropietarios de un edificio o conjunto sometido al régimen de propiedad horizontal.\n",
      "    [1]: <class 'dict'>\n",
      "      sentencias: <class 'list'>\n",
      "        [0]: <class 'dict'>\n",
      "          numero_sentencia: <class 'str'>\n",
      "            Valor: C-318 de 2002\n",
      "          demanda: <class 'str'>\n",
      "            Valor: Demanda de inconstitucionalidad en contra de los artículos 1, 3, parcial, 32, parcial, 37, parcial, 39, parcial, 42, parcial, 43, parcial, 44, parcial, 45, parcial, 47, parcial, 49, parcial, 50, parcial, 51, parcial, 53, parcial, 58, parcial, 59, parcial, y 62, parcial, de la Ley 675 de 2001, “Por medio de la cual se expide el régimen de propiedad horizontal.”\n",
      "          expediente: <class 'str'>\n",
      "            Valor: D-3771\n",
      "          resuelve: <class 'str'>\n",
      "            Valor: Bajo el entendido de que los moradores no propietarios de inmuebles sometidos al régimen de propiedad horizontal podrán ejercer ante las autoridades internas del mismo el derecho de petición, así como el de ser oídos en las decisiones que puedan afectarlos, conforme a lo expuesto en la parte motiva de esta sentencia. Igualmente, se declara la exequibilidad de las normas acusadas bajo el entendido de que, cuando se trate de la imposición de sanciones por parte de las autoridades internas del inmueble sometido al régimen de propiedad horizontal, habrá de respetarse y garantizarse a los no propietarios el ejercicio del derecho de defensa\n",
      "        [1]: <class 'dict'>\n",
      "          numero_sentencia: <class 'str'>\n",
      "            Valor: C-738 de 2002\n",
      "          demanda: <class 'str'>\n",
      "            Valor: Demanda de inconstitucionalidad contra los artículos 3° (parcial), 20, 21, 22, 45, 46, 56, 59 (parcial) y contra el Capítulo XIII de la 76 de la Ley 675 de 2001.\n",
      "          expediente: <class 'str'>\n",
      "            Valor: D-3988\n",
      "          resuelve: <class 'str'>\n",
      "            Valor: En los edificios o conjuntos de uso comercial, los costos de mercadeo tendrán el carácter de expensa común necesaria, sin perjuicio de las excepciones y restricciones que el reglamento de propiedad horizontal respectivo establezca\n",
      "        [2]: <class 'dict'>\n",
      "          numero_sentencia: <class 'str'>\n",
      "            Valor: C-522 de 2002\n",
      "          demanda: <class 'str'>\n",
      "            Valor: Revisión de constitucionalidad de los artículos 3º, 25 y 37 (parciales) de la Ley 675 de 2001.\n",
      "          expediente: <class 'str'>\n",
      "            Valor: D-3830\n",
      "          resuelve: <class 'str'>\n",
      "            Valor: Declarar EXEQUIBLE el parágrafo 2° del artículo 37 de la Ley 675 de 2001 en el entendido que cuando se trate de inmuebles destinados a vivienda, el voto de cada propietario equivaldrá al porcentaje de coeficiente de propiedad del respectivo bien privado, sólo para las decisiones de contenido económico conforme a lo expresado en la parte motiva de la sentencia.\n"
     ]
    }
   ],
   "source": [
    "for k, v in first_file_object.items():\n",
    "    print(f\"{k}: {type(v)}\")\n",
    "    if isinstance(v, dict):\n",
    "        # Si el valor es un diccionario, imprime el contenido anidado\n",
    "        print_nested(v, indent=1)\n",
    "    if isinstance(v, list):\n",
    "        # Si el valor es un diccionario, imprime el contenido anidado\n",
    "        print_nested(v, indent=1)"
   ]
  },
  {
   "cell_type": "code",
   "execution_count": 20,
   "metadata": {},
   "outputs": [],
   "source": [
    "item1 = first_file_object['ley']['titulo'][0]['capitulos'][0]['articulos'][0]['contenido']"
   ]
  },
  {
   "cell_type": "code",
   "execution_count": 22,
   "metadata": {},
   "outputs": [
    {
     "data": {
      "text/plain": [
       "'La presente ley regula la forma especial de dominio, denominado propiedad horizontal, en la que concurren derechos de propiedad exclusiva sobre bienes'"
      ]
     },
     "execution_count": 22,
     "metadata": {},
     "output_type": "execute_result"
    }
   ],
   "source": [
    "#Para solo traer los primeros 150 caracteres\n",
    "item1[0:150]"
   ]
  },
  {
   "cell_type": "code",
   "execution_count": null,
   "metadata": {},
   "outputs": [],
   "source": []
  }
 ],
 "metadata": {
  "kernelspec": {
   "display_name": ".venv",
   "language": "python",
   "name": "python3"
  },
  "language_info": {
   "codemirror_mode": {
    "name": "ipython",
    "version": 3
   },
   "file_extension": ".py",
   "mimetype": "text/x-python",
   "name": "python",
   "nbconvert_exporter": "python",
   "pygments_lexer": "ipython3",
   "version": "3.11.5"
  }
 },
 "nbformat": 4,
 "nbformat_minor": 2
}
